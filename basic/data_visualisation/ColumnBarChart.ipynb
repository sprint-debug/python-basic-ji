{
  "nbformat": 4,
  "nbformat_minor": 0,
  "metadata": {
    "colab": {
      "name": "ColumnBarChart.ipynb",
      "provenance": [],
      "collapsed_sections": []
    },
    "kernelspec": {
      "name": "python3",
      "display_name": "Python 3"
    },
    "language_info": {
      "name": "python"
    }
  },
  "cells": [
    {
      "cell_type": "markdown",
      "metadata": {
        "id": "gXGBTnvMeGIg"
      },
      "source": [
        "#1. Google Drive Mounting"
      ]
    },
    {
      "cell_type": "code",
      "metadata": {
        "colab": {
          "base_uri": "https://localhost:8080/"
        },
        "id": "Ao2mA5kgeDZE",
        "outputId": "d32514c0-45dc-49b8-b3c4-d0b56103e877"
      },
      "source": [
        "from google.colab import drive\n",
        "drive.mount('/gdrive')"
      ],
      "execution_count": 1,
      "outputs": [
        {
          "output_type": "stream",
          "text": [
            "Mounted at /gdrive\n"
          ],
          "name": "stdout"
        }
      ]
    },
    {
      "cell_type": "code",
      "metadata": {
        "colab": {
          "base_uri": "https://localhost:8080/"
        },
        "id": "_jAamObPeZRo",
        "outputId": "e5e49c97-af0e-4ab0-d7b0-97443a12552e"
      },
      "source": [
        "!ls -al '/gdrive/My Drive/data'"
      ],
      "execution_count": 2,
      "outputs": [
        {
          "output_type": "stream",
          "text": [
            "total 23239\n",
            "-rw------- 1 root root 9373601 May 13 03:46 marathon_2015_2017.csv\n",
            "-rw------- 1 root root     151 May 13 03:47 marathon_2015_2017.gsheet\n",
            "-rw------- 1 root root 1750754 Feb 22 17:41 marathon_2015_2017_qualifying.csv\n",
            "-rw------- 1 root root    1349 Aug 19  2019 marathon_qualifying_time.csv\n",
            "-rw------- 1 root root 4228123 Apr 29  2017 marathon_results_2015.csv\n",
            "-rw------- 1 root root 4244383 Apr 29  2017 marathon_results_2016.csv\n",
            "-rw------- 1 root root 4196246 Apr 29  2017 marathon_results_2017.csv\n"
          ],
          "name": "stdout"
        }
      ]
    },
    {
      "cell_type": "markdown",
      "metadata": {
        "id": "5duZIgeuel8T"
      },
      "source": [
        "#2. Import Data"
      ]
    },
    {
      "cell_type": "code",
      "metadata": {
        "id": "Fjo4TiepeqfF"
      },
      "source": [
        "# Import pandas as a alias 'pd'\n",
        "import pandas as pd"
      ],
      "execution_count": 3,
      "outputs": []
    },
    {
      "cell_type": "code",
      "metadata": {
        "id": "zY6W4STFexSu"
      },
      "source": [
        "# Load the CSV files \"marathon_2015_2017.csv\" under \"data\" folder\n",
        "input_file = '/gdrive/My Drive/data/marathon_2015_2017.csv'\n",
        "marathon_2015_2017 = pd.read_csv(input_file)"
      ],
      "execution_count": 4,
      "outputs": []
    },
    {
      "cell_type": "code",
      "metadata": {
        "colab": {
          "base_uri": "https://localhost:8080/",
          "height": 306
        },
        "id": "DnxJM4eUfF46",
        "outputId": "1bee3d3a-cc9c-424e-fda0-eca63242518c"
      },
      "source": [
        "marathon_2015_2017.head()"
      ],
      "execution_count": 5,
      "outputs": [
        {
          "output_type": "execute_result",
          "data": {
            "text/html": [
              "<div>\n",
              "<style scoped>\n",
              "    .dataframe tbody tr th:only-of-type {\n",
              "        vertical-align: middle;\n",
              "    }\n",
              "\n",
              "    .dataframe tbody tr th {\n",
              "        vertical-align: top;\n",
              "    }\n",
              "\n",
              "    .dataframe thead th {\n",
              "        text-align: right;\n",
              "    }\n",
              "</style>\n",
              "<table border=\"1\" class=\"dataframe\">\n",
              "  <thead>\n",
              "    <tr style=\"text-align: right;\">\n",
              "      <th></th>\n",
              "      <th>Name</th>\n",
              "      <th>Age</th>\n",
              "      <th>M/F</th>\n",
              "      <th>City</th>\n",
              "      <th>State</th>\n",
              "      <th>Country</th>\n",
              "      <th>5K</th>\n",
              "      <th>10K</th>\n",
              "      <th>15K</th>\n",
              "      <th>20K</th>\n",
              "      <th>Half</th>\n",
              "      <th>25K</th>\n",
              "      <th>30K</th>\n",
              "      <th>35K</th>\n",
              "      <th>40K</th>\n",
              "      <th>Pace</th>\n",
              "      <th>Official Time</th>\n",
              "      <th>Overall</th>\n",
              "      <th>Gender</th>\n",
              "      <th>Division</th>\n",
              "      <th>Year</th>\n",
              "    </tr>\n",
              "  </thead>\n",
              "  <tbody>\n",
              "    <tr>\n",
              "      <th>0</th>\n",
              "      <td>Desisa, Lelisa</td>\n",
              "      <td>25</td>\n",
              "      <td>M</td>\n",
              "      <td>Ambo</td>\n",
              "      <td>NaN</td>\n",
              "      <td>ETH</td>\n",
              "      <td>883</td>\n",
              "      <td>1783</td>\n",
              "      <td>2697</td>\n",
              "      <td>3629</td>\n",
              "      <td>3842</td>\n",
              "      <td>4567</td>\n",
              "      <td>5520</td>\n",
              "      <td>6479</td>\n",
              "      <td>7359</td>\n",
              "      <td>296</td>\n",
              "      <td>7757</td>\n",
              "      <td>1</td>\n",
              "      <td>1</td>\n",
              "      <td>1</td>\n",
              "      <td>2015</td>\n",
              "    </tr>\n",
              "    <tr>\n",
              "      <th>1</th>\n",
              "      <td>Tsegay, Yemane Adhane</td>\n",
              "      <td>30</td>\n",
              "      <td>M</td>\n",
              "      <td>Addis Ababa</td>\n",
              "      <td>NaN</td>\n",
              "      <td>ETH</td>\n",
              "      <td>883</td>\n",
              "      <td>1783</td>\n",
              "      <td>2698</td>\n",
              "      <td>3628</td>\n",
              "      <td>3841</td>\n",
              "      <td>4567</td>\n",
              "      <td>5519</td>\n",
              "      <td>6479</td>\n",
              "      <td>7362</td>\n",
              "      <td>298</td>\n",
              "      <td>7788</td>\n",
              "      <td>2</td>\n",
              "      <td>2</td>\n",
              "      <td>2</td>\n",
              "      <td>2015</td>\n",
              "    </tr>\n",
              "    <tr>\n",
              "      <th>2</th>\n",
              "      <td>Chebet, Wilson</td>\n",
              "      <td>29</td>\n",
              "      <td>M</td>\n",
              "      <td>Marakwet</td>\n",
              "      <td>NaN</td>\n",
              "      <td>KEN</td>\n",
              "      <td>883</td>\n",
              "      <td>1783</td>\n",
              "      <td>2697</td>\n",
              "      <td>3629</td>\n",
              "      <td>3842</td>\n",
              "      <td>4567</td>\n",
              "      <td>5520</td>\n",
              "      <td>6479</td>\n",
              "      <td>7381</td>\n",
              "      <td>299</td>\n",
              "      <td>7822</td>\n",
              "      <td>3</td>\n",
              "      <td>3</td>\n",
              "      <td>3</td>\n",
              "      <td>2015</td>\n",
              "    </tr>\n",
              "    <tr>\n",
              "      <th>3</th>\n",
              "      <td>Kipyego, Bernard</td>\n",
              "      <td>28</td>\n",
              "      <td>M</td>\n",
              "      <td>Eldoret</td>\n",
              "      <td>NaN</td>\n",
              "      <td>KEN</td>\n",
              "      <td>883</td>\n",
              "      <td>1784</td>\n",
              "      <td>2701</td>\n",
              "      <td>3629</td>\n",
              "      <td>3842</td>\n",
              "      <td>4567</td>\n",
              "      <td>5520</td>\n",
              "      <td>6483</td>\n",
              "      <td>7427</td>\n",
              "      <td>300</td>\n",
              "      <td>7847</td>\n",
              "      <td>4</td>\n",
              "      <td>4</td>\n",
              "      <td>4</td>\n",
              "      <td>2015</td>\n",
              "    </tr>\n",
              "    <tr>\n",
              "      <th>4</th>\n",
              "      <td>Korir, Wesley</td>\n",
              "      <td>32</td>\n",
              "      <td>M</td>\n",
              "      <td>Kitale</td>\n",
              "      <td>NaN</td>\n",
              "      <td>KEN</td>\n",
              "      <td>883</td>\n",
              "      <td>1784</td>\n",
              "      <td>2698</td>\n",
              "      <td>3628</td>\n",
              "      <td>3841</td>\n",
              "      <td>4567</td>\n",
              "      <td>5520</td>\n",
              "      <td>6479</td>\n",
              "      <td>7407</td>\n",
              "      <td>300</td>\n",
              "      <td>7849</td>\n",
              "      <td>5</td>\n",
              "      <td>5</td>\n",
              "      <td>5</td>\n",
              "      <td>2015</td>\n",
              "    </tr>\n",
              "  </tbody>\n",
              "</table>\n",
              "</div>"
            ],
            "text/plain": [
              "                    Name  Age M/F         City  ... Overall Gender  Division  Year\n",
              "0         Desisa, Lelisa   25   M         Ambo  ...       1      1         1  2015\n",
              "1  Tsegay, Yemane Adhane   30   M  Addis Ababa  ...       2      2         2  2015\n",
              "2         Chebet, Wilson   29   M     Marakwet  ...       3      3         3  2015\n",
              "3       Kipyego, Bernard   28   M      Eldoret  ...       4      4         4  2015\n",
              "4          Korir, Wesley   32   M       Kitale  ...       5      5         5  2015\n",
              "\n",
              "[5 rows x 21 columns]"
            ]
          },
          "metadata": {
            "tags": []
          },
          "execution_count": 5
        }
      ]
    },
    {
      "cell_type": "markdown",
      "metadata": {
        "id": "STI43uz2fMPh"
      },
      "source": [
        "#3. Create Chart"
      ]
    },
    {
      "cell_type": "code",
      "metadata": {
        "id": "WldmUEiafQoT"
      },
      "source": [
        "# Import pyplot as a alias 'plt'\n",
        "import matplotlib.pyplot as plt"
      ],
      "execution_count": 6,
      "outputs": []
    },
    {
      "cell_type": "code",
      "metadata": {
        "id": "txzhFNb-fz_e"
      },
      "source": [
        "# Select runners from Age 18 to 60 by conditional expression\n",
        "runner_1860 = marathon_2015_2017[marathon_2015_2017.Age.isin(range(18, 60))]"
      ],
      "execution_count": 7,
      "outputs": []
    },
    {
      "cell_type": "code",
      "metadata": {
        "colab": {
          "base_uri": "https://localhost:8080/"
        },
        "id": "2pgENMV5hDUr",
        "outputId": "f15631f7-0e93-4f18-9d10-db55c0b62db5"
      },
      "source": [
        "runner_1860.sort_values(by=['Age']).Age.unique()"
      ],
      "execution_count": 15,
      "outputs": [
        {
          "output_type": "execute_result",
          "data": {
            "text/plain": [
              "array([18, 19, 20, 21, 22, 23, 24, 25, 26, 27, 28, 29, 30, 31, 32, 33, 34,\n",
              "       35, 36, 37, 38, 39, 40, 41, 42, 43, 44, 45, 46, 47, 48, 49, 50, 51,\n",
              "       52, 53, 54, 55, 56, 57, 58, 59])"
            ]
          },
          "metadata": {
            "tags": []
          },
          "execution_count": 15
        }
      ]
    },
    {
      "cell_type": "code",
      "metadata": {
        "id": "IuCaBrvfhdSl"
      },
      "source": [
        "# Create runner_1860_counting Dataframe with counting by Age\n",
        "runner_1860_counting = runner_1860['Age'].value_counts() "
      ],
      "execution_count": 16,
      "outputs": []
    },
    {
      "cell_type": "code",
      "metadata": {
        "colab": {
          "base_uri": "https://localhost:8080/"
        },
        "id": "9GKLSd_bhtmm",
        "outputId": "b785b7f9-a54d-44be-e1d4-d1ddc07fd372"
      },
      "source": [
        "runner_1860_counting"
      ],
      "execution_count": 28,
      "outputs": [
        {
          "output_type": "execute_result",
          "data": {
            "text/plain": [
              "45    3236\n",
              "46    3039\n",
              "40    2734\n",
              "47    2566\n",
              "50    2498\n",
              "41    2494\n",
              "35    2327\n",
              "42    2318\n",
              "48    2277\n",
              "43    2265\n",
              "36    2188\n",
              "38    2128\n",
              "51    2124\n",
              "37    2108\n",
              "39    2101\n",
              "44    2056\n",
              "49    2018\n",
              "52    1930\n",
              "55    1920\n",
              "29    1906\n",
              "30    1849\n",
              "33    1834\n",
              "31    1779\n",
              "28    1758\n",
              "34    1756\n",
              "27    1755\n",
              "53    1730\n",
              "32    1726\n",
              "26    1709\n",
              "25    1539\n",
              "56    1514\n",
              "54    1433\n",
              "24    1301\n",
              "57    1287\n",
              "58    1044\n",
              "23     920\n",
              "59     788\n",
              "22     701\n",
              "21     489\n",
              "20     264\n",
              "19     137\n",
              "18      62\n",
              "Name: Age, dtype: int64"
            ]
          },
          "metadata": {
            "tags": []
          },
          "execution_count": 28
        }
      ]
    },
    {
      "cell_type": "code",
      "metadata": {
        "id": "hYS_56KWhyw_"
      },
      "source": [
        "# Store index of runner_1860_counting into x\n",
        "x = runner_1860_counting.index"
      ],
      "execution_count": 18,
      "outputs": []
    },
    {
      "cell_type": "code",
      "metadata": {
        "colab": {
          "base_uri": "https://localhost:8080/"
        },
        "id": "m726tJmGiAWg",
        "outputId": "017ad0f2-2a78-4ffd-b8f4-b2031c6ba17b"
      },
      "source": [
        "x"
      ],
      "execution_count": 19,
      "outputs": [
        {
          "output_type": "execute_result",
          "data": {
            "text/plain": [
              "Int64Index([45, 46, 40, 47, 50, 41, 35, 42, 48, 43, 36, 38, 51, 37, 39, 44, 49,\n",
              "            52, 55, 29, 30, 33, 31, 28, 34, 27, 53, 32, 26, 25, 56, 54, 24, 57,\n",
              "            58, 23, 59, 22, 21, 20, 19, 18],\n",
              "           dtype='int64')"
            ]
          },
          "metadata": {
            "tags": []
          },
          "execution_count": 19
        }
      ]
    },
    {
      "cell_type": "code",
      "metadata": {
        "id": "9rXil33qiIJ5"
      },
      "source": [
        "# Conver x values to String in order to avoid int sorting\n",
        "x = [str(i) for i in x]"
      ],
      "execution_count": 20,
      "outputs": []
    },
    {
      "cell_type": "code",
      "metadata": {
        "id": "cOioHOZwiTIJ"
      },
      "source": [
        "x"
      ],
      "execution_count": null,
      "outputs": []
    },
    {
      "cell_type": "code",
      "metadata": {
        "id": "AgcSekFriZN3"
      },
      "source": [
        "# Store values of runner_1860_counting into y\n",
        "y = runner_1860_counting.values"
      ],
      "execution_count": 26,
      "outputs": []
    },
    {
      "cell_type": "code",
      "metadata": {
        "colab": {
          "base_uri": "https://localhost:8080/"
        },
        "id": "ujSh7_k3jcAD",
        "outputId": "5500c4f5-1897-47f1-dc35-a952a8afb70c"
      },
      "source": [
        "y"
      ],
      "execution_count": 27,
      "outputs": [
        {
          "output_type": "execute_result",
          "data": {
            "text/plain": [
              "array([3236, 3039, 2734, 2566, 2498, 2494, 2327, 2318, 2277, 2265, 2188,\n",
              "       2128, 2124, 2108, 2101, 2056, 2018, 1930, 1920, 1906, 1849, 1834,\n",
              "       1779, 1758, 1756, 1755, 1730, 1726, 1709, 1539, 1514, 1433, 1301,\n",
              "       1287, 1044,  920,  788,  701,  489,  264,  137,   62])"
            ]
          },
          "metadata": {
            "tags": []
          },
          "execution_count": 27
        }
      ]
    },
    {
      "cell_type": "code",
      "metadata": {
        "colab": {
          "base_uri": "https://localhost:8080/",
          "height": 609
        },
        "id": "ze9JPfP2jkeE",
        "outputId": "8c3ffb45-a2a5-425c-b00a-a0eeb449b2dd"
      },
      "source": [
        "# Configure figure size\n",
        "plt.figure(figsize=(15,10))\n",
        "# Creae bar Chart\n",
        "plt.bar(x, y)"
      ],
      "execution_count": 30,
      "outputs": [
        {
          "output_type": "execute_result",
          "data": {
            "text/plain": [
              "<BarContainer object of 42 artists>"
            ]
          },
          "metadata": {
            "tags": []
          },
          "execution_count": 30
        },
        {
          "output_type": "display_data",
          "data": {
            "image/png": "[encoded data removed]",
            "text/plain": [
              "<Figure size 1080x720 with 1 Axes>"
            ]
          },
          "metadata": {
            "tags": [],
            "needs_background": "light"
          }
        }
      ]
    }
  ]
}