{
  "nbformat": 4,
  "nbformat_minor": 0,
  "metadata": {
    "colab": {
      "name": "flowcontrol_if_for_while.ipynb",
      "provenance": [],
      "collapsed_sections": []
    },
    "kernelspec": {
      "name": "python3",
      "display_name": "Python 3"
    }
  },
  "cells": [
    {
      "cell_type": "markdown",
      "metadata": {
        "id": "KpOcAC0Itind"
      },
      "source": [
        "#1. Condition\n",
        "\n",
        "If Sentence"
      ]
    },
    {
      "cell_type": "code",
      "metadata": {
        "id": "EoGtqEOstnnh"
      },
      "source": [
        "name = input('Enter your name : ')"
      ],
      "execution_count": null,
      "outputs": []
    },
    {
      "cell_type": "code",
      "metadata": {
        "id": "ZE7YQc7St-hU"
      },
      "source": [
        "if name == 'bird':\n",
        "    print(\"I could fly to you\")\n",
        "else:\n",
        "    print(\"I could walk to you\")"
      ],
      "execution_count": null,
      "outputs": []
    },
    {
      "cell_type": "code",
      "metadata": {
        "id": "si91h8mmuPR-"
      },
      "source": [
        "if  name == 'bird':\n",
        "    print(\"I could fly to you\")\n",
        "elif name == 'pig':\n",
        "    print(\"I could walk to you\")\n",
        "else:\n",
        "    print(\"I could stay to you\")"
      ],
      "execution_count": null,
      "outputs": []
    },
    {
      "cell_type": "markdown",
      "metadata": {
        "id": "c4eRADmuulxx"
      },
      "source": [
        "#2. Loop\n",
        "\n",
        "For Sentence\n",
        "\n",
        "While Sentence"
      ]
    },
    {
      "cell_type": "code",
      "metadata": {
        "id": "2bJEUfWQuqzw"
      },
      "source": [
        "# Input table number : For\n",
        "num = int(input('Enter Multiplication table Number : '))"
      ],
      "execution_count": null,
      "outputs": []
    },
    {
      "cell_type": "code",
      "metadata": {
        "id": "yMUfLn6fvCmN"
      },
      "source": [
        "for i in range(1, 10):\n",
        "    print(num, 'X', i, '=', num*i)"
      ],
      "execution_count": null,
      "outputs": []
    },
    {
      "cell_type": "code",
      "metadata": {
        "id": "PcyRxCG2vfqv"
      },
      "source": [
        "for i in range(2, 10):\n",
        "    for j in range(1, 10):\n",
        "        print(\"%2d X %2d = %5d\" %(i, j, i*j))\n",
        "    print(\"----------------\")    "
      ],
      "execution_count": null,
      "outputs": []
    },
    {
      "cell_type": "code",
      "metadata": {
        "id": "gumbMGBuwFxW"
      },
      "source": [
        "# Input table number : While\n",
        "num = int(input('Enter Multiplication table Number : '))"
      ],
      "execution_count": null,
      "outputs": []
    },
    {
      "cell_type": "code",
      "metadata": {
        "id": "0Rp9D_c6wOd1"
      },
      "source": [
        "i = 1\n",
        "while i < 10:\n",
        "    print(num, 'X', i, '=', num*i)\n",
        "    i += 1"
      ],
      "execution_count": null,
      "outputs": []
    },
    {
      "cell_type": "code",
      "metadata": {
        "id": "L6IUFaaNwj0a"
      },
      "source": [
        "i = 2\n",
        "while i < 10:\n",
        "    j = 1\n",
        "    while j < 10:\n",
        "        print(\"%2d X %2d = %5d\" %(i, j, i*j))\n",
        "        j += 1\n",
        "    print(\"----------------\") \n",
        "    i += 1"
      ],
      "execution_count": null,
      "outputs": []
    },
    {
      "cell_type": "markdown",
      "metadata": {
        "id": "gm6uTx0Sw4f1"
      },
      "source": [
        "#3. Petstore"
      ]
    },
    {
      "cell_type": "code",
      "metadata": {
        "id": "cxy-pCemxCaO"
      },
      "source": [
        "petstores = [\n",
        "            {\"item\": \"Persian Adult Female\", \"price\": 93.5},\n",
        "            {\"item\": \"Bulldog Male Adult\", \"price\": 18.5},\n",
        "            {\"item\": \"Amazon Parrot Adult Male\", \"price\": 193.5},\n",
        "            {\"item\": \"Koi Spotted\", \"price\": 18.5}\n",
        "        ]"
      ],
      "execution_count": 12,
      "outputs": []
    },
    {
      "cell_type": "code",
      "metadata": {
        "colab": {
          "base_uri": "https://localhost:8080/"
        },
        "id": "iH0vChjExOA1",
        "outputId": "ebc7174c-eb1c-4743-8946-eef034ba03d3"
      },
      "source": [
        "items = []\n",
        "prices = []\n",
        "for petstore in petstores:\n",
        "    items.append(petstore[\"item\"])\n",
        "    prices.append(petstore[\"price\"])\n",
        "print(items)\n",
        "print(prices)"
      ],
      "execution_count": 14,
      "outputs": [
        {
          "output_type": "stream",
          "text": [
            "['Persian Adult Female', 'Bulldog Male Adult', 'Amazon Parrot Adult Male', 'Koi Spotted']\n",
            "[93.5, 18.5, 193.5, 18.5]\n"
          ],
          "name": "stdout"
        }
      ]
    }
  ]
}