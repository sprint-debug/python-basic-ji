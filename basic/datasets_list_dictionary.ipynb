{
  "cells": [
    {
      "cell_type": "markdown",
      "metadata": {
        "id": "QDnek8VkJvw9"
      },
      "source": [
        "#1. List\n",
        "\n",
        "Enter by input() or Forms\n",
        " \n",
        "https://colab.research.google.com/notebooks/forms.ipynb"
      ]
    },
    {
      "cell_type": "code",
      "execution_count": 1,
      "metadata": {
        "id": "FBejY2VXJs0I",
        "vscode": {
          "languageId": "python"
        }
      },
      "outputs": [],
      "source": [
        "items = []"
      ]
    },
    {
      "cell_type": "code",
      "execution_count": 2,
      "metadata": {
        "colab": {
          "base_uri": "https://localhost:8080/"
        },
        "id": "9fVYQ6TSKgrw",
        "outputId": "8fa21158-34de-4dca-efb6-7caddbdada09",
        "vscode": {
          "languageId": "python"
        }
      },
      "outputs": [
        {
          "name": "stdout",
          "output_type": "stream",
          "text": [
            "Enter item : Persian Adult Female \n",
            "['Persian Adult Female ']\n"
          ]
        }
      ],
      "source": [
        "item = input('Enter item : ')\n",
        "items.append(item)\n",
        "print(items)"
      ]
    },
    {
      "cell_type": "code",
      "execution_count": 3,
      "metadata": {
        "colab": {
          "base_uri": "https://localhost:8080/"
        },
        "id": "gLRwDaCqKy0U",
        "outputId": "9371f5f8-a6ae-4862-df38-a801337ef4d6",
        "vscode": {
          "languageId": "python"
        }
      },
      "outputs": [
        {
          "name": "stdout",
          "output_type": "stream",
          "text": [
            "['Persian Adult Female ', 'Bulldog Male Adult']\n"
          ]
        }
      ],
      "source": [
        "item = 'Enter item : ' #@param {type:\"string\"}\n",
        "items.append(item)\n",
        "print(items)"
      ]
    },
    {
      "cell_type": "code",
      "execution_count": null,
      "metadata": {
        "vscode": {
          "languageId": "python"
        }
      },
      "outputs": [],
      "source": []
    },
    {
      "cell_type": "code",
      "execution_count": 4,
      "metadata": {
        "colab": {
          "base_uri": "https://localhost:8080/"
        },
        "id": "DSHK62F7LKPr",
        "outputId": "42e7af25-aff1-4d74-8892-f9b77fbf43bf",
        "vscode": {
          "languageId": "python"
        }
      },
      "outputs": [
        {
          "name": "stdout",
          "output_type": "stream",
          "text": [
            "['Persian Adult Female ', 'Bulldog Male Adult', 'Amazon Parrot Adult Male']\n"
          ]
        }
      ],
      "source": [
        "item = 'Amazon Parrot Adult Male' #@param {type:\"string\"}\n",
        "items.append(item)\n",
        "print(items)"
      ]
    },
    {
      "cell_type": "code",
      "execution_count": 5,
      "metadata": {
        "colab": {
          "base_uri": "https://localhost:8080/",
          "height": 35
        },
        "id": "bCZwOSUgLecH",
        "outputId": "bf82e387-235d-41cc-c5a3-d6491b0303ce",
        "vscode": {
          "languageId": "python"
        }
      },
      "outputs": [
        {
          "data": {
            "application/vnd.google.colaboratory.intrinsic+json": {
              "type": "string"
            },
            "text/plain": [
              "'Bulldog Male Adult'"
            ]
          },
          "execution_count": 5,
          "metadata": {
            "tags": []
          },
          "output_type": "execute_result"
        }
      ],
      "source": [
        "items[1]"
      ]
    },
    {
      "cell_type": "code",
      "execution_count": 6,
      "metadata": {
        "colab": {
          "base_uri": "https://localhost:8080/",
          "height": 35
        },
        "id": "MkO4IlgiLozQ",
        "outputId": "d8de4dc8-e8dd-4050-f413-71f4fa482c56",
        "vscode": {
          "languageId": "python"
        }
      },
      "outputs": [
        {
          "data": {
            "application/vnd.google.colaboratory.intrinsic+json": {
              "type": "string"
            },
            "text/plain": [
              "'Amazon Parrot Adult Male'"
            ]
          },
          "execution_count": 6,
          "metadata": {
            "tags": []
          },
          "output_type": "execute_result"
        }
      ],
      "source": [
        "items[-1]"
      ]
    },
    {
      "cell_type": "code",
      "execution_count": 7,
      "metadata": {
        "colab": {
          "base_uri": "https://localhost:8080/"
        },
        "id": "n8Tq751eLti6",
        "outputId": "3175c4db-ed89-4df7-ca66-03db3e283cd5",
        "vscode": {
          "languageId": "python"
        }
      },
      "outputs": [
        {
          "data": {
            "text/plain": [
              "['Persian Adult Female ', 'Bulldog Male Adult']"
            ]
          },
          "execution_count": 7,
          "metadata": {
            "tags": []
          },
          "output_type": "execute_result"
        }
      ],
      "source": [
        "items[0:2]"
      ]
    },
    {
      "cell_type": "code",
      "execution_count": 8,
      "metadata": {
        "colab": {
          "base_uri": "https://localhost:8080/"
        },
        "id": "iz5dKl_jL0jL",
        "outputId": "df999b54-8722-4695-d0fc-2321c9a62166",
        "vscode": {
          "languageId": "python"
        }
      },
      "outputs": [
        {
          "data": {
            "text/plain": [
              "['Bulldog Male Adult', 'Amazon Parrot Adult Male']"
            ]
          },
          "execution_count": 8,
          "metadata": {
            "tags": []
          },
          "output_type": "execute_result"
        }
      ],
      "source": [
        "items[1:]"
      ]
    },
    {
      "cell_type": "code",
      "execution_count": 9,
      "metadata": {
        "colab": {
          "base_uri": "https://localhost:8080/"
        },
        "id": "NWFOddEZL5J6",
        "outputId": "0080a12b-579f-4476-dfda-afa4b0c61590",
        "vscode": {
          "languageId": "python"
        }
      },
      "outputs": [
        {
          "data": {
            "text/plain": [
              "3"
            ]
          },
          "execution_count": 9,
          "metadata": {
            "tags": []
          },
          "output_type": "execute_result"
        }
      ],
      "source": [
        "len(items)"
      ]
    },
    {
      "cell_type": "code",
      "execution_count": 10,
      "metadata": {
        "colab": {
          "base_uri": "https://localhost:8080/"
        },
        "id": "1pRRrTsnL-ey",
        "outputId": "ced92b26-a71a-4261-bbe5-c06513d4028f",
        "vscode": {
          "languageId": "python"
        }
      },
      "outputs": [
        {
          "data": {
            "text/plain": [
              "['Persian Adult Female ', 'Bulldog Male Adult', 'Amazon Parrot Adult Male']"
            ]
          },
          "execution_count": 10,
          "metadata": {
            "tags": []
          },
          "output_type": "execute_result"
        }
      ],
      "source": [
        "items"
      ]
    },
    {
      "cell_type": "code",
      "execution_count": 11,
      "metadata": {
        "id": "gLE0G-9mMEB_",
        "vscode": {
          "languageId": "python"
        }
      },
      "outputs": [],
      "source": [
        "items[1] = 'Koi Spotted'"
      ]
    },
    {
      "cell_type": "code",
      "execution_count": 12,
      "metadata": {
        "colab": {
          "base_uri": "https://localhost:8080/"
        },
        "id": "2lB16V5TMSS_",
        "outputId": "51d0f648-c8d6-4f15-b0cd-04741c22d1ef",
        "vscode": {
          "languageId": "python"
        }
      },
      "outputs": [
        {
          "data": {
            "text/plain": [
              "['Persian Adult Female ', 'Koi Spotted', 'Amazon Parrot Adult Male']"
            ]
          },
          "execution_count": 12,
          "metadata": {
            "tags": []
          },
          "output_type": "execute_result"
        }
      ],
      "source": [
        "items"
      ]
    },
    {
      "cell_type": "code",
      "execution_count": 13,
      "metadata": {
        "colab": {
          "base_uri": "https://localhost:8080/"
        },
        "id": "Oi7nq6yqMUpw",
        "outputId": "02173764-f022-48b2-9f6f-5d8877b5883a",
        "vscode": {
          "languageId": "python"
        }
      },
      "outputs": [
        {
          "data": {
            "text/plain": [
              "1"
            ]
          },
          "execution_count": 13,
          "metadata": {
            "tags": []
          },
          "output_type": "execute_result"
        }
      ],
      "source": [
        "items.index('Koi Spotted')"
      ]
    },
    {
      "cell_type": "code",
      "execution_count": 14,
      "metadata": {
        "id": "0Ha0mdeWMd_Z",
        "vscode": {
          "languageId": "python"
        }
      },
      "outputs": [],
      "source": [
        "prices = [93.5, 18.5, 193.5]\n",
        "petstores = [items, prices]"
      ]
    },
    {
      "cell_type": "code",
      "execution_count": 15,
      "metadata": {
        "colab": {
          "base_uri": "https://localhost:8080/"
        },
        "id": "Y4OmaqtTM22j",
        "outputId": "37cd3e8a-36af-4c6e-e83b-681e0dfd04b6",
        "vscode": {
          "languageId": "python"
        }
      },
      "outputs": [
        {
          "name": "stdout",
          "output_type": "stream",
          "text": [
            "[['Persian Adult Female ', 'Koi Spotted', 'Amazon Parrot Adult Male'], [93.5, 18.5, 193.5]]\n"
          ]
        }
      ],
      "source": [
        "print(petstores)"
      ]
    },
    {
      "cell_type": "code",
      "execution_count": 16,
      "metadata": {
        "colab": {
          "base_uri": "https://localhost:8080/",
          "height": 35
        },
        "id": "0dhs5eZ_M-Rk",
        "outputId": "70b2ddbb-4888-4053-e00b-126386051fb6",
        "vscode": {
          "languageId": "python"
        }
      },
      "outputs": [
        {
          "data": {
            "application/vnd.google.colaboratory.intrinsic+json": {
              "type": "string"
            },
            "text/plain": [
              "'Persian Adult Female '"
            ]
          },
          "execution_count": 16,
          "metadata": {
            "tags": []
          },
          "output_type": "execute_result"
        }
      ],
      "source": [
        "petstores[0][0]"
      ]
    },
    {
      "cell_type": "code",
      "execution_count": 17,
      "metadata": {
        "colab": {
          "base_uri": "https://localhost:8080/"
        },
        "id": "JpsLrBV4ND4y",
        "outputId": "9b86e95b-6671-4394-8068-1050ce0f48b5",
        "vscode": {
          "languageId": "python"
        }
      },
      "outputs": [
        {
          "data": {
            "text/plain": [
              "93.5"
            ]
          },
          "execution_count": 17,
          "metadata": {
            "tags": []
          },
          "output_type": "execute_result"
        }
      ],
      "source": [
        "petstores[1][0]"
      ]
    },
    {
      "cell_type": "markdown",
      "metadata": {
        "id": "LeYaD9UBNOHM"
      },
      "source": [
        "#2. Dictionary"
      ]
    },
    {
      "cell_type": "code",
      "execution_count": 19,
      "metadata": {
        "id": "BibdKbg2NQp1",
        "vscode": {
          "languageId": "python"
        }
      },
      "outputs": [],
      "source": [
        "petstores = []"
      ]
    },
    {
      "cell_type": "code",
      "execution_count": 20,
      "metadata": {
        "colab": {
          "base_uri": "https://localhost:8080/"
        },
        "id": "MRLesx9ONZrW",
        "outputId": "942b9d68-434d-4bbe-e7df-d6652dc68f0c",
        "vscode": {
          "languageId": "python"
        }
      },
      "outputs": [
        {
          "data": {
            "text/plain": [
              "[]"
            ]
          },
          "execution_count": 20,
          "metadata": {
            "tags": []
          },
          "output_type": "execute_result"
        }
      ],
      "source": [
        "petstores"
      ]
    },
    {
      "cell_type": "code",
      "execution_count": 21,
      "metadata": {
        "colab": {
          "base_uri": "https://localhost:8080/"
        },
        "id": "x1FhlILENXtu",
        "outputId": "27b3bf51-113e-4ee6-c4c2-e47dbb32a957",
        "vscode": {
          "languageId": "python"
        }
      },
      "outputs": [
        {
          "name": "stdout",
          "output_type": "stream",
          "text": [
            "Enter item : Persian Adult Female\n",
            "Enter price : 93.5\n",
            "{'item': 'Persian Adult Female', 'price': 93.5}\n",
            "[{'item': 'Persian Adult Female', 'price': 93.5}]\n"
          ]
        }
      ],
      "source": [
        "dic = {}\n",
        "item = input('Enter item : ')\n",
        "price = float(input('Enter price : '))\n",
        "dic['item'] = item\n",
        "dic['price'] = price\n",
        "petstores.append(dic)\n",
        "print(dic)\n",
        "print(petstores)"
      ]
    },
    {
      "cell_type": "code",
      "execution_count": 22,
      "metadata": {
        "colab": {
          "base_uri": "https://localhost:8080/"
        },
        "id": "_CBYB30dOSCC",
        "outputId": "6f4d669a-6de8-4e56-f093-59731ee647dd",
        "vscode": {
          "languageId": "python"
        }
      },
      "outputs": [
        {
          "name": "stdout",
          "output_type": "stream",
          "text": [
            "{'item': 'Koi Spotted', 'price': 18.5}\n",
            "[{'item': 'Persian Adult Female', 'price': 93.5}, {'item': 'Koi Spotted', 'price': 18.5}]\n"
          ]
        }
      ],
      "source": [
        "dic = {}\n",
        "item = 'Koi Spotted' #@param {type:\"string\"}\n",
        "price = \"18.5\" #@param {type:\"string\"}\n",
        "dic['item'] = item\n",
        "dic['price'] = float(price)\n",
        "petstores.append(dic)\n",
        "print(dic)\n",
        "print(petstores)"
      ]
    },
    {
      "cell_type": "code",
      "execution_count": 23,
      "metadata": {
        "colab": {
          "base_uri": "https://localhost:8080/"
        },
        "id": "Ya6erGhIOwKB",
        "outputId": "0d1a7f87-fbec-4914-95f2-668a40968d5c",
        "vscode": {
          "languageId": "python"
        }
      },
      "outputs": [
        {
          "data": {
            "text/plain": [
              "{'item': 'Persian Adult Female', 'price': 93.5}"
            ]
          },
          "execution_count": 23,
          "metadata": {
            "tags": []
          },
          "output_type": "execute_result"
        }
      ],
      "source": [
        "petstores[0]"
      ]
    },
    {
      "cell_type": "code",
      "execution_count": 24,
      "metadata": {
        "colab": {
          "base_uri": "https://localhost:8080/"
        },
        "id": "8a1qjyFLO1xi",
        "outputId": "79668df6-62ca-4f18-9917-b8267f8e1ff2",
        "vscode": {
          "languageId": "python"
        }
      },
      "outputs": [
        {
          "data": {
            "text/plain": [
              "dict_keys(['item', 'price'])"
            ]
          },
          "execution_count": 24,
          "metadata": {
            "tags": []
          },
          "output_type": "execute_result"
        }
      ],
      "source": [
        "dic.keys()"
      ]
    },
    {
      "cell_type": "code",
      "execution_count": 25,
      "metadata": {
        "colab": {
          "base_uri": "https://localhost:8080/"
        },
        "id": "fKDdd6fmO8WU",
        "outputId": "5e76a50b-19a9-4f86-db97-6646fb4a7e68",
        "vscode": {
          "languageId": "python"
        }
      },
      "outputs": [
        {
          "data": {
            "text/plain": [
              "dict_values(['Koi Spotted', 18.5])"
            ]
          },
          "execution_count": 25,
          "metadata": {
            "tags": []
          },
          "output_type": "execute_result"
        }
      ],
      "source": [
        "dic.values()"
      ]
    }
  ],
  "metadata": {
    "colab": {
      "collapsed_sections": [],
      "name": "datasets_list_dictionary.ipynb",
      "provenance": []
    },
    "kernelspec": {
      "display_name": "Python 3",
      "name": "python3"
    }
  },
  "nbformat": 4,
  "nbformat_minor": 0
}
