{
  "nbformat": 4,
  "nbformat_minor": 0,
  "metadata": {
    "colab": {
      "name": "function_lambda.ipynb",
      "provenance": [],
      "collapsed_sections": []
    },
    "kernelspec": {
      "name": "python3",
      "display_name": "Python 3"
    }
  },
  "cells": [
    {
      "cell_type": "markdown",
      "metadata": {
        "id": "FYLXeaUwDaI5"
      },
      "source": [
        "#1. Petstore"
      ]
    },
    {
      "cell_type": "code",
      "metadata": {
        "id": "xKb4Q-uuDXI7"
      },
      "source": [
        "petstores = [\n",
        "            {\"item\": \"Persian Adult Female\", \"price\": 93.5},\n",
        "            {\"item\": \"Bulldog Male Adult\", \"price\": 18.5},\n",
        "            {\"item\": \"Amazon Parrot Adult Male\", \"price\": 193.5},\n",
        "            {\"item\": \"Koi Spotted\", \"price\": 18.5}\n",
        "        ]"
      ],
      "execution_count": 1,
      "outputs": []
    },
    {
      "cell_type": "code",
      "metadata": {
        "colab": {
          "base_uri": "https://localhost:8080/"
        },
        "id": "YKaDW-yoDpbH",
        "outputId": "ef66dd17-b822-41b5-ef9e-627e60fee681"
      },
      "source": [
        "items = []\n",
        "prices = []\n",
        "\n",
        "for petstore in petstores:\n",
        "    items.append(petstore['item'])\n",
        "    prices.append(petstore['price'])\n",
        "print(items)\n",
        "print(prices)"
      ],
      "execution_count": 2,
      "outputs": [
        {
          "output_type": "stream",
          "text": [
            "['Persian Adult Female', 'Bulldog Male Adult', 'Amazon Parrot Adult Male', 'Koi Spotted']\n",
            "[93.5, 18.5, 193.5, 18.5]\n"
          ],
          "name": "stdout"
        }
      ]
    },
    {
      "cell_type": "markdown",
      "metadata": {
        "id": "DO7vKrsBEJAs"
      },
      "source": [
        "#2. Function"
      ]
    },
    {
      "cell_type": "code",
      "metadata": {
        "colab": {
          "base_uri": "https://localhost:8080/"
        },
        "id": "nZtPK6zgEIJ7",
        "outputId": "edfd990e-1a2c-4166-afd0-f3d2d1776e03"
      },
      "source": [
        "len(petstores)"
      ],
      "execution_count": 3,
      "outputs": [
        {
          "output_type": "execute_result",
          "data": {
            "text/plain": [
              "4"
            ]
          },
          "metadata": {
            "tags": []
          },
          "execution_count": 3
        }
      ]
    },
    {
      "cell_type": "code",
      "metadata": {
        "colab": {
          "base_uri": "https://localhost:8080/"
        },
        "id": "muCqj1GDEQIT",
        "outputId": "3fe381a7-2cca-43ca-8663-c59103653029"
      },
      "source": [
        "max(prices)"
      ],
      "execution_count": 4,
      "outputs": [
        {
          "output_type": "execute_result",
          "data": {
            "text/plain": [
              "193.5"
            ]
          },
          "metadata": {
            "tags": []
          },
          "execution_count": 4
        }
      ]
    },
    {
      "cell_type": "code",
      "metadata": {
        "colab": {
          "base_uri": "https://localhost:8080/"
        },
        "id": "-2DYR3YEEVzU",
        "outputId": "85d4f779-d061-4c4c-eafb-aaa16b91554c"
      },
      "source": [
        "min(prices)"
      ],
      "execution_count": 5,
      "outputs": [
        {
          "output_type": "execute_result",
          "data": {
            "text/plain": [
              "18.5"
            ]
          },
          "metadata": {
            "tags": []
          },
          "execution_count": 5
        }
      ]
    },
    {
      "cell_type": "code",
      "metadata": {
        "colab": {
          "base_uri": "https://localhost:8080/"
        },
        "id": "dRaC6zx6Eb61",
        "outputId": "9e9bba7e-47de-4a71-888f-ab58d838ec2b"
      },
      "source": [
        "sum(prices)"
      ],
      "execution_count": 6,
      "outputs": [
        {
          "output_type": "execute_result",
          "data": {
            "text/plain": [
              "324.0"
            ]
          },
          "metadata": {
            "tags": []
          },
          "execution_count": 6
        }
      ]
    },
    {
      "cell_type": "code",
      "metadata": {
        "colab": {
          "base_uri": "https://localhost:8080/"
        },
        "id": "wWHjgDXdEkkN",
        "outputId": "713662f3-9c4a-459a-cf8d-7f1ee8866371"
      },
      "source": [
        "for idx, item in enumerate(items):\n",
        "    print(idx, item)"
      ],
      "execution_count": 7,
      "outputs": [
        {
          "output_type": "stream",
          "text": [
            "0 Persian Adult Female\n",
            "1 Bulldog Male Adult\n",
            "2 Amazon Parrot Adult Male\n",
            "3 Koi Spotted\n"
          ],
          "name": "stdout"
        }
      ]
    },
    {
      "cell_type": "code",
      "metadata": {
        "colab": {
          "base_uri": "https://localhost:8080/"
        },
        "id": "LPXFS2RtE3Jw",
        "outputId": "072d1bf4-6518-4f34-e695-8c2fc00d8815"
      },
      "source": [
        "# Lambda function\n",
        "sum = lambda a, b : a+b\n",
        "sum(2,3)"
      ],
      "execution_count": 8,
      "outputs": [
        {
          "output_type": "execute_result",
          "data": {
            "text/plain": [
              "5"
            ]
          },
          "metadata": {
            "tags": []
          },
          "execution_count": 8
        }
      ]
    },
    {
      "cell_type": "code",
      "metadata": {
        "colab": {
          "base_uri": "https://localhost:8080/"
        },
        "id": "8eO4erj7FHR6",
        "outputId": "031db3de-2a68-4b8a-e26d-42d5c5a603f3"
      },
      "source": [
        "# User define function\n",
        "def getPrice(item):\n",
        "    for petstore in petstores:\n",
        "        if petstore['item'] == item:\n",
        "            return '$' + str(petstore['price'])\n",
        "\n",
        "price = getPrice(\"Amazon Parrot Adult Male\")\n",
        "print(price)"
      ],
      "execution_count": 12,
      "outputs": [
        {
          "output_type": "stream",
          "text": [
            "$193.5\n"
          ],
          "name": "stdout"
        }
      ]
    },
    {
      "cell_type": "code",
      "metadata": {
        "colab": {
          "base_uri": "https://localhost:8080/"
        },
        "id": "4qXfs1pDGDgO",
        "outputId": "592ab547-7247-41ad-ffab-4f29bf36a3c9"
      },
      "source": [
        "for item in items:\n",
        "    print(item, getPrice(item))"
      ],
      "execution_count": 13,
      "outputs": [
        {
          "output_type": "stream",
          "text": [
            "Persian Adult Female $93.5\n",
            "Bulldog Male Adult $18.5\n",
            "Amazon Parrot Adult Male $193.5\n",
            "Koi Spotted $18.5\n"
          ],
          "name": "stdout"
        }
      ]
    }
  ]
}