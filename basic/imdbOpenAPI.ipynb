{
  "cells": [
    {
      "cell_type": "markdown",
      "metadata": {
        "id": "_5As2-3ME-It"
      },
      "source": [
        "#1. Open API"
      ]
    },
    {
      "cell_type": "code",
      "execution_count": 6,
      "metadata": {
        "id": "3toNjA16FF-B"
      },
      "outputs": [],
      "source": [
        "import requests"
      ]
    },
    {
      "cell_type": "code",
      "execution_count": null,
      "metadata": {
        "id": "C2RuYC6JFJ6g"
      },
      "outputs": [],
      "source": [
        "key = 'YOUR KEY'"
      ]
    },
    {
      "cell_type": "code",
      "execution_count": 7,
      "metadata": {
        "id": "srP1ik89FQ_C"
      },
      "outputs": [],
      "source": [
        "host = 'imdb8.p.rapidapi.com'"
      ]
    },
    {
      "cell_type": "code",
      "execution_count": 8,
      "metadata": {
        "id": "1_k2KNzGFfy8"
      },
      "outputs": [],
      "source": [
        "url = \"https://imdb8.p.rapidapi.com/auto-complete\""
      ]
    },
    {
      "cell_type": "code",
      "execution_count": 11,
      "metadata": {
        "id": "2GSk6qLjFiFT"
      },
      "outputs": [],
      "source": [
        "querystring = {\"q\":\"toy\"}"
      ]
    },
    {
      "cell_type": "code",
      "execution_count": 10,
      "metadata": {
        "id": "d-n8vlZjFmk2"
      },
      "outputs": [],
      "source": [
        "headers = {\n",
        "    'x-rapidapi-key': key,\n",
        "    'x-rapidapi-host': host\n",
        "}"
      ]
    },
    {
      "cell_type": "code",
      "execution_count": 13,
      "metadata": {
        "id": "_0UZLvzKF15Y"
      },
      "outputs": [],
      "source": [
        "response = requests.request('GET', url, headers=headers, params=querystring)"
      ]
    },
    {
      "cell_type": "code",
      "execution_count": 14,
      "metadata": {
        "colab": {
          "base_uri": "https://localhost:8080/"
        },
        "id": "7bwEMgY7GVYT",
        "outputId": "50994e13-6a30-4e0e-d232-f1842989b034"
      },
      "outputs": [
        {
          "data": {
            "text/plain": [
              "<Response [200]>"
            ]
          },
          "execution_count": 14,
          "metadata": {
            "tags": []
          },
          "output_type": "execute_result"
        }
      ],
      "source": [
        "response"
      ]
    },
    {
      "cell_type": "code",
      "execution_count": 15,
      "metadata": {
        "id": "38Sj6KKqGYGq"
      },
      "outputs": [],
      "source": [
        "json = response.json()"
      ]
    },
    {
      "cell_type": "code",
      "execution_count": null,
      "metadata": {
        "id": "XzAZgxivGgXE"
      },
      "outputs": [],
      "source": [
        "json"
      ]
    },
    {
      "cell_type": "code",
      "execution_count": 18,
      "metadata": {
        "id": "kAlmRvpqGn0F"
      },
      "outputs": [],
      "source": [
        "movies = json['d']"
      ]
    },
    {
      "cell_type": "code",
      "execution_count": 20,
      "metadata": {
        "colab": {
          "base_uri": "https://localhost:8080/"
        },
        "id": "xQAGek-BGsqF",
        "outputId": "e64118f4-a1ee-4361-c7c7-678da69e9a02"
      },
      "outputs": [
        {
          "data": {
            "text/plain": [
              "[{'i': {'height': 1500,\n",
              "   'imageUrl': 'https://m.media-amazon.com/images/M/MV5BMDU2ZWJlMjktMTRhMy00ZTA5LWEzNDgtYmNmZTEwZTViZWJkXkEyXkFqcGdeQXVyNDQ2OTk4MzI@._V1_.jpg',\n",
              "   'width': 1005},\n",
              "  'id': 'tt0114709',\n",
              "  'l': 'Toy Story',\n",
              "  'q': 'feature',\n",
              "  'rank': 1112,\n",
              "  's': 'Tom Hanks, Tim Allen',\n",
              "  'v': [{'i': {'height': 480,\n",
              "     'imageUrl': 'https://m.media-amazon.com/images/M/MV5BMjAwOTYzODExMF5BMl5BanBnXkFtZTcwNDYyNjc4Mg@@._V1_.jpg',\n",
              "     'width': 640},\n",
              "    'id': 'vi2052129305',\n",
              "    'l': 'Toy Story/Toy Story 2: 3D Double Feature',\n",
              "    's': '1:02'},\n",
              "   {'i': {'height': 1080,\n",
              "     'imageUrl': 'https://m.media-amazon.com/images/M/MV5BMmVhNzFmMmMtYmY4MC00MzZlLTllOWQtZjcxZTRlZjNlZDkwXkEyXkFqcGdeQWFsZWxvZw@@._V1_.jpg',\n",
              "     'width': 1920},\n",
              "    'id': 'vi2777005593',\n",
              "    'l': 'Our Favorite Easter Eggs in Film',\n",
              "    's': '4:26'},\n",
              "   {'i': {'height': 360,\n",
              "     'imageUrl': 'https://m.media-amazon.com/images/M/MV5BZTYxMTY1NTAtNWU3NS00NGJiLTg5YzMtNjFiMjFkYzRkMGU3XkEyXkFqcGdeQXVyNzU1NzE3NTg@._V1_.jpg',\n",
              "     'width': 480},\n",
              "    'id': 'vi2188642073',\n",
              "    'l': 'Toy Story: Special Edition',\n",
              "    's': '0:36'}],\n",
              "  'vt': 12,\n",
              "  'y': 1995},\n",
              " {'i': {'height': 1609,\n",
              "   'imageUrl': 'https://m.media-amazon.com/images/M/MV5BMTYzMDM4NzkxOV5BMl5BanBnXkFtZTgwNzM1Mzg2NzM@._V1_.jpg',\n",
              "   'width': 1086},\n",
              "  'id': 'tt1979376',\n",
              "  'l': 'Toy Story 4',\n",
              "  'q': 'feature',\n",
              "  'rank': 1350,\n",
              "  's': 'Tom Hanks, Tim Allen',\n",
              "  'v': [{'i': {'height': 806,\n",
              "     'imageUrl': 'https://m.media-amazon.com/images/M/MV5BMTM5ZGMyMDMtOTY3Zi00NDM0LWEwZjUtYzI5ZjNiODgyNDA4XkEyXkFqcGdeQXRyYW5zY29kZS13b3JrZmxvdw@@._V1_.jpg',\n",
              "     'width': 1920},\n",
              "    'id': 'vi1497349145',\n",
              "    'l': 'Toy Story 4',\n",
              "    's': '2:19'},\n",
              "   {'i': {'height': 1080,\n",
              "     'imageUrl': 'https://m.media-amazon.com/images/M/MV5BM2UwMmI3MDctMzg5MS00NjY4LTgxZjMtNmY2ZThiNTY1ZWZjXkEyXkFqcGdeQW1hcmNtYW5u._V1_.jpg',\n",
              "     'width': 1920},\n",
              "    'id': 'vi3124870937',\n",
              "    'l': \"Keegan-Michael Key Shows What Ducky Would Think of 'Toy Story 4' Winning Big\",\n",
              "    's': '1:48'},\n",
              "   {'i': {'height': 1080,\n",
              "     'imageUrl': 'https://m.media-amazon.com/images/M/MV5BNDk5OWJmMjQtZjJlZS00NGNiLTg5YjgtZWUzZTdkN2FmMzIwXkEyXkFqcGdeQXZ3ZXNsZXk@._V1_.jpg',\n",
              "     'width': 1920},\n",
              "    'id': 'vi977255449',\n",
              "    'l': 'In Theaters Tonight!',\n",
              "    's': '0:31'}],\n",
              "  'vt': 38,\n",
              "  'y': 2019},\n",
              " {'i': {'height': 2048,\n",
              "   'imageUrl': 'https://m.media-amazon.com/images/M/MV5BMTgxOTY4Mjc0MF5BMl5BanBnXkFtZTcwNTA4MDQyMw@@._V1_.jpg',\n",
              "   'width': 1448},\n",
              "  'id': 'tt0435761',\n",
              "  'l': 'Toy Story 3',\n",
              "  'q': 'feature',\n",
              "  'rank': 2434,\n",
              "  's': 'Tom Hanks, Tim Allen',\n",
              "  'y': 2010},\n",
              " {'i': {'height': 1500,\n",
              "   'imageUrl': 'https://m.media-amazon.com/images/M/MV5BMWM5ZDcxMTYtNTEyNS00MDRkLWI3YTItNThmMGExMWY4NDIwXkEyXkFqcGdeQXVyNjUwNzk3NDc@._V1_.jpg',\n",
              "   'width': 1016},\n",
              "  'id': 'tt0120363',\n",
              "  'l': 'Toy Story 2',\n",
              "  'q': 'feature',\n",
              "  'rank': 3003,\n",
              "  's': 'Tom Hanks, Tim Allen',\n",
              "  'y': 1999},\n",
              " {'i': {'height': 5268,\n",
              "   'imageUrl': 'https://m.media-amazon.com/images/M/MV5BNmZhMmY5ODgtZjA5MS00ZmIzLTk2ODYtNzA3YjQ4YzE3OTAwXkEyXkFqcGdeQXVyMTA0MjU0Ng@@._V1_.jpg',\n",
              "   'width': 3543},\n",
              "  'id': 'tt8693266',\n",
              "  'l': 'Toy Boy',\n",
              "  'q': 'TV series',\n",
              "  'rank': 5525,\n",
              "  's': 'Jesús Mosquera, Cristina Castaño',\n",
              "  'y': 2019,\n",
              "  'yr': '2019-2019'},\n",
              " {'i': {'height': 755,\n",
              "   'imageUrl': 'https://m.media-amazon.com/images/M/MV5BNTk0NGNiYTctYWE5NS00YzdkLWI1N2YtYWI5YTk2MmI5NzU4XkEyXkFqcGdeQXVyNzEyNjE5NzM@._V1_.jpg',\n",
              "   'width': 508},\n",
              "  'id': 'tt0103112',\n",
              "  'l': 'Toy Soldiers',\n",
              "  'q': 'feature',\n",
              "  'rank': 6968,\n",
              "  's': 'Sean Astin, Wil Wheaton',\n",
              "  'y': 1991},\n",
              " {'i': {'height': 2258,\n",
              "   'imageUrl': 'https://m.media-amazon.com/images/M/MV5BNzYxYzZiMjUtYTc3Zi00YzYzLWIyZDgtNDRkNjMwNGVjNWE5XkEyXkFqcGdeQXVyNDk3NzU2MTQ@._V1_.jpg',\n",
              "   'width': 1500},\n",
              "  'id': 'tt0084809',\n",
              "  'l': 'The Toy',\n",
              "  'q': 'feature',\n",
              "  'rank': 12081,\n",
              "  's': 'Richard Pryor, Jackie Gleason',\n",
              "  'y': 1982},\n",
              " {'i': {'height': 1500,\n",
              "   'imageUrl': 'https://m.media-amazon.com/images/M/MV5BZWFmMTllM2EtZTNlOC00NGY3LTg1YWItZGIzOTU3Mzk3YmNkL2ltYWdlXkEyXkFqcGdeQXVyMTQxNzMzNDI@._V1_.jpg',\n",
              "   'width': 1005},\n",
              "  'id': 'tt0105629',\n",
              "  'l': 'Toys',\n",
              "  'q': 'feature',\n",
              "  'rank': 9917,\n",
              "  's': 'Robin Williams, Michael Gambon',\n",
              "  'y': 1992}]"
            ]
          },
          "execution_count": 20,
          "metadata": {
            "tags": []
          },
          "output_type": "execute_result"
        }
      ],
      "source": [
        "movies"
      ]
    },
    {
      "cell_type": "code",
      "execution_count": 22,
      "metadata": {
        "colab": {
          "base_uri": "https://localhost:8080/"
        },
        "id": "JsU9tKFyG8Ny",
        "outputId": "3819b29b-8569-4b48-88e4-6f907173cc01"
      },
      "outputs": [
        {
          "name": "stdout",
          "output_type": "stream",
          "text": [
            "[{'title': 'Toy Story', 'actors': 'Tom Hanks, Tim Allen', 'year': 1995}, {'title': 'Toy Story 4', 'actors': 'Tom Hanks, Tim Allen', 'year': 2019}, {'title': 'Toy Story 3', 'actors': 'Tom Hanks, Tim Allen', 'year': 2010}, {'title': 'Toy Story 2', 'actors': 'Tom Hanks, Tim Allen', 'year': 1999}, {'title': 'Toy Boy', 'actors': 'Jesús Mosquera, Cristina Castaño', 'year': 2019}, {'title': 'Toy Soldiers', 'actors': 'Sean Astin, Wil Wheaton', 'year': 1991}, {'title': 'The Toy', 'actors': 'Richard Pryor, Jackie Gleason', 'year': 1982}, {'title': 'Toys', 'actors': 'Robin Williams, Michael Gambon', 'year': 1992}]\n"
          ]
        }
      ],
      "source": [
        "items =[]\n",
        "\n",
        "for movie in movies:\n",
        "    dic ={}\n",
        "    dic['title'] = movie['l']\n",
        "    dic['actors'] = movie['s']\n",
        "    dic['year'] = movie['y']\n",
        "    items.append(dic)\n",
        "print(items)"
      ]
    }
  ],
  "metadata": {
    "colab": {
      "collapsed_sections": [],
      "name": "imdbOpenAPI.ipynb",
      "provenance": []
    },
    "kernelspec": {
      "display_name": "Python 3",
      "name": "python3"
    }
  },
  "nbformat": 4,
  "nbformat_minor": 0
}
