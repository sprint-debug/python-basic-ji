{
  "nbformat": 4,
  "nbformat_minor": 0,
  "metadata": {
    "colab": {
      "provenance": []
    },
    "kernelspec": {
      "name": "python3",
      "display_name": "Python 3"
    },
    "language_info": {
      "name": "python"
    }
  },
  "cells": [
    {
      "cell_type": "markdown",
      "source": [
        "#1. Variables\n",
        "\n",
        "Declaring a Variable\n",
        "\n",
        "Initialising a Variable\n",
        "\n",
        "Assingning a Value a to a Variable"
      ],
      "metadata": {
        "id": "bbL7QxdLTIx2"
      }
    },
    {
      "cell_type": "code",
      "execution_count": 1,
      "metadata": {
        "id": "fhvJts3HTAr7"
      },
      "outputs": [],
      "source": [
        "score = 0"
      ]
    },
    {
      "cell_type": "code",
      "source": [
        "print(score)"
      ],
      "metadata": {
        "colab": {
          "base_uri": "https://localhost:8080/"
        },
        "id": "kIXG809TWq7Y",
        "outputId": "b65b795a-39b9-46e0-9066-4b74bb9e179e"
      },
      "execution_count": 2,
      "outputs": [
        {
          "output_type": "stream",
          "name": "stdout",
          "text": [
            "0\n"
          ]
        }
      ]
    },
    {
      "cell_type": "code",
      "source": [
        "score = 10\n",
        "print(score)"
      ],
      "metadata": {
        "colab": {
          "base_uri": "https://localhost:8080/"
        },
        "id": "NTFc5ED5Wulf",
        "outputId": "98e1c738-70cb-467c-f9ee-679f871af04e"
      },
      "execution_count": 3,
      "outputs": [
        {
          "output_type": "stream",
          "name": "stdout",
          "text": [
            "10\n"
          ]
        }
      ]
    },
    {
      "cell_type": "code",
      "source": [
        "score = 20\n",
        "print(score)"
      ],
      "metadata": {
        "colab": {
          "base_uri": "https://localhost:8080/"
        },
        "id": "2MMVsMrYWzZC",
        "outputId": "0dcf3b57-56be-41c0-c30c-d64e093219a3"
      },
      "execution_count": 5,
      "outputs": [
        {
          "output_type": "stream",
          "name": "stdout",
          "text": [
            "20\n"
          ]
        }
      ]
    },
    {
      "cell_type": "code",
      "source": [
        "level = 1\n",
        "type (level)"
      ],
      "metadata": {
        "colab": {
          "base_uri": "https://localhost:8080/"
        },
        "id": "w702r2uAYO17",
        "outputId": "65e14a21-c26b-48ae-9717-88dda904c069"
      },
      "execution_count": 6,
      "outputs": [
        {
          "output_type": "execute_result",
          "data": {
            "text/plain": [
              "int"
            ]
          },
          "metadata": {},
          "execution_count": 6
        }
      ]
    },
    {
      "cell_type": "markdown",
      "source": [
        "#2. Data Types\n",
        "\n",
        "Integer type (Int) 정수\n",
        "\n",
        "Float type (float) 실수\n",
        "\n",
        "String type (str) 문자\n",
        "\n",
        "Boolean type (bool) 참/거짓\n"
      ],
      "metadata": {
        "id": "KKOSzkf5XNEz"
      }
    },
    {
      "cell_type": "code",
      "source": [
        "angel = 35.45"
      ],
      "metadata": {
        "id": "Zt5jdFM4YZC3"
      },
      "execution_count": 7,
      "outputs": []
    },
    {
      "cell_type": "code",
      "source": [
        "type(angel)"
      ],
      "metadata": {
        "colab": {
          "base_uri": "https://localhost:8080/"
        },
        "id": "Wky1IWe9YcNd",
        "outputId": "36884e63-d436-46d0-9759-fd1d6a75dafa"
      },
      "execution_count": 8,
      "outputs": [
        {
          "output_type": "execute_result",
          "data": {
            "text/plain": [
              "float"
            ]
          },
          "metadata": {},
          "execution_count": 8
        }
      ]
    },
    {
      "cell_type": "code",
      "source": [
        "name = 'jiin'\n",
        "type(name)"
      ],
      "metadata": {
        "colab": {
          "base_uri": "https://localhost:8080/"
        },
        "id": "CDNx2esJYeIm",
        "outputId": "8e3d59c6-6703-45df-a160-077757ddbcb9"
      },
      "execution_count": 9,
      "outputs": [
        {
          "output_type": "execute_result",
          "data": {
            "text/plain": [
              "str"
            ]
          },
          "metadata": {},
          "execution_count": 9
        }
      ]
    },
    {
      "cell_type": "code",
      "source": [
        "sound = True\n",
        "type(sound)"
      ],
      "metadata": {
        "colab": {
          "base_uri": "https://localhost:8080/"
        },
        "id": "biiaV5A8Yj7z",
        "outputId": "50610fb0-2bae-45ce-b637-fd86827c5371"
      },
      "execution_count": 10,
      "outputs": [
        {
          "output_type": "execute_result",
          "data": {
            "text/plain": [
              "bool"
            ]
          },
          "metadata": {},
          "execution_count": 10
        }
      ]
    },
    {
      "cell_type": "code",
      "source": [
        "item = 'bulldog'\n",
        "price = 10.5\n",
        "type(item)\n",
        "type(price)"
      ],
      "metadata": {
        "colab": {
          "base_uri": "https://localhost:8080/"
        },
        "id": "46aOZMmuW064",
        "outputId": "71bab740-daaf-4725-ddf0-953845686e2e"
      },
      "execution_count": 12,
      "outputs": [
        {
          "output_type": "execute_result",
          "data": {
            "text/plain": [
              "float"
            ]
          },
          "metadata": {},
          "execution_count": 12
        }
      ]
    },
    {
      "cell_type": "code",
      "source": [],
      "metadata": {
        "id": "A5wCZGg8Yt7F"
      },
      "execution_count": null,
      "outputs": []
    }
  ]
}