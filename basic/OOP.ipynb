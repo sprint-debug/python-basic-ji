{
  "cells": [
    {
      "cell_type": "markdown",
      "metadata": {
        "id": "lSGe4WjZV1Gh"
      },
      "source": [
        "#1. Class"
      ]
    },
    {
      "cell_type": "code",
      "execution_count": null,
      "metadata": {
        "id": "WQmRZ0w7SDUX"
      },
      "outputs": [],
      "source": [
        "petstores = [\n",
        "            {\"item\": \"Persian Adult Female\", \"price\": 93.5},\n",
        "            {\"item\": \"Bulldog Male Adult\", \"price\": 18.5},\n",
        "            {\"item\": \"Amazon Parrot Adult Male\", \"price\": 193.5},\n",
        "            {\"item\": \"Koi Spotted\", \"price\": 18.5}\n",
        "        ]"
      ]
    },
    {
      "cell_type": "code",
      "execution_count": null,
      "metadata": {
        "id": "v3isq_JtV9wz"
      },
      "outputs": [],
      "source": [
        "class Comments:\n",
        "    title               = \"#### Welcome to %s ####\"\n",
        "    product_description = \"%s:%s($%s)\"\n",
        "    insert_fare         = \"\\nPlease insert money : \"\n",
        "    insufficient_fare   = \"%s Insufficient money. The balance is $%s.\"\n",
        "    select_item      = \"Please select item\"\n",
        "    select_error        = \"Please try again.\"\n",
        "    finish_sale         = \"You select %s. The balance is $%s.\\nThank you.\"\n",
        "    terminate_sale      = \"End the sale.\""
      ]
    },
    {
      "cell_type": "code",
      "execution_count": null,
      "metadata": {
        "id": "wLUeBoGdWSOZ"
      },
      "outputs": [],
      "source": [
        "class Products:\n",
        "    productNames  = []\n",
        "    productValues = []"
      ]
    },
    {
      "cell_type": "code",
      "execution_count": null,
      "metadata": {
        "id": "Ii7NMwdTWfmD"
      },
      "outputs": [],
      "source": [
        "class PetStore(Products):\n",
        "    _data = petstores\n",
        "    _name = 'PetStore'\n",
        "    _status = True\n",
        "\n",
        "    def __init__(self):\n",
        "        print(Comments.title %self._name)\n",
        "\n",
        "    def set_products(self):\n",
        "        #초기화\n",
        "        Products.productNames =[]\n",
        "        Products.productValues = []\n",
        "        \n",
        "        for product in self._data:\n",
        "            Products.productNames.append(product['item'])\n",
        "            Products.productValues.append(product['price'])\n",
        "\n",
        "    def run(self):\n",
        "        self.set_products()\n",
        "        while self._status:\n",
        "            try:\n",
        "                inputMoney = int(input(Comments.insert_fare))\n",
        "            except ValueError:\n",
        "                print(Comments.select_error)\n",
        "            else:\n",
        "                self.selectItem(inputMoney)\n",
        "\n",
        "    def selectItem(self, money):\n",
        "        print(Comments.select_item)\n",
        "        for idx, name in enumerate(Products.productNames):\n",
        "            price = Products.productValues[idx]\n",
        "            print(Comments.product_description %(str(idx), name, price))\n",
        "        inputItem = int(input(Comments.select_item))\n",
        "        self.payment(money, inputItem)\n",
        "\n",
        "    def payment(self, money, idx):\n",
        "        name = Products.productNames[idx]\n",
        "        price = Products.productValues[idx]\n",
        "        if money >= price:\n",
        "            balance = money - price\n",
        "            print(Comments.finish_sale %(name, str(balance)))\n",
        "        else:\n",
        "            print(Comments.insufficient_fare %(name, str(money)))"
      ]
    },
    {
      "cell_type": "code",
      "execution_count": null,
      "metadata": {
        "colab": {
          "base_uri": "https://localhost:8080/"
        },
        "id": "gfFvLq5SWoJE",
        "outputId": "c00dec4e-5f84-4699-f394-4996c914454d"
      },
      "outputs": [
        {
          "name": "stdout",
          "output_type": "stream",
          "text": [
            "#### Welcome to PetStore ####\n",
            "\n",
            "Please insert money : 100\n",
            "Please select item\n",
            "0:Persian Adult Female($93.5)\n",
            "1:Bulldog Male Adult($18.5)\n",
            "2:Amazon Parrot Adult Male($193.5)\n",
            "3:Koi Spotted($18.5)\n",
            "Please select item0\n",
            "You select Persian Adult Female. The balance is $6.5.\n",
            "Thank you.\n",
            "\n",
            "Please insert money : 100\n",
            "Please select item\n",
            "0:Persian Adult Female($93.5)\n",
            "1:Bulldog Male Adult($18.5)\n",
            "2:Amazon Parrot Adult Male($193.5)\n",
            "3:Koi Spotted($18.5)\n",
            "Please select item2\n",
            "Amazon Parrot Adult Male Insufficient money. The balance is $100.\n",
            "\n",
            "Please insert money : 100\n",
            "Please select item\n",
            "0:Persian Adult Female($93.5)\n",
            "1:Bulldog Male Adult($18.5)\n",
            "2:Amazon Parrot Adult Male($193.5)\n",
            "3:Koi Spotted($18.5)\n",
            "Please select item1\n",
            "You select Bulldog Male Adult. The balance is $81.5.\n",
            "Thank you.\n",
            "End the sale.\n"
          ]
        }
      ],
      "source": [
        "store = PetStore()\n",
        "\n",
        "try:\n",
        "    store.run()\n",
        "except KeyboardInterrupt:\n",
        "    store._status = False\n",
        "    print(Comments.terminate_sale)"
      ]
    },
    {
      "cell_type": "markdown",
      "metadata": {
        "id": "8vleo91Udz6M"
      },
      "source": [
        "#2. Inheritance"
      ]
    },
    {
      "cell_type": "code",
      "execution_count": null,
      "metadata": {
        "id": "DCu9XqPud6dU"
      },
      "outputs": [],
      "source": [
        "movies = [\n",
        "            {\"item\": \"Toy story\", \"price\": 97.5},\n",
        "            {\"item\": \"Toy story 2\", \"price\": 78.5},\n",
        "            {\"item\": \"Toy story 3\", \"price\": 83.5},\n",
        "            {\"item\": \"Toy story 4\", \"price\": 108.5}\n",
        "        ]"
      ]
    },
    {
      "cell_type": "code",
      "execution_count": null,
      "metadata": {
        "id": "d4Si60WoeV_x"
      },
      "outputs": [],
      "source": [
        "class MovieStore(PetStore):\n",
        "    _data = movies\n",
        "    _name = 'MovieStore'"
      ]
    },
    {
      "cell_type": "code",
      "execution_count": null,
      "metadata": {
        "colab": {
          "base_uri": "https://localhost:8080/"
        },
        "id": "U77uGlqvetAG",
        "outputId": "7f86262a-3b6b-4833-c728-c5dcdc067add"
      },
      "outputs": [
        {
          "name": "stdout",
          "output_type": "stream",
          "text": [
            "#### Welcome to MovieStore ####\n",
            "\n",
            "Please insert money : 100\n",
            "Please select item\n",
            "0:Toy story($97.5)\n",
            "1:Toy story 2($78.5)\n",
            "2:Toy story 3($83.5)\n",
            "3:Toy story 4($108.5)\n",
            "Please select item0\n",
            "You select Toy story. The balance is $2.5.\n",
            "Thank you.\n",
            "\n",
            "Please insert money : 100\n",
            "Please select item\n",
            "0:Toy story($97.5)\n",
            "1:Toy story 2($78.5)\n",
            "2:Toy story 3($83.5)\n",
            "3:Toy story 4($108.5)\n",
            "Please select item3\n",
            "Toy story 4 Insufficient money. The balance is $100.\n",
            "\n",
            "Please insert money : 100\n",
            "Please select item\n",
            "0:Toy story($97.5)\n",
            "1:Toy story 2($78.5)\n",
            "2:Toy story 3($83.5)\n",
            "3:Toy story 4($108.5)\n",
            "Please select item2\n",
            "You select Toy story 3. The balance is $16.5.\n",
            "Thank you.\n",
            "End the sale.\n"
          ]
        }
      ],
      "source": [
        "store = MovieStore()\n",
        "\n",
        "try:\n",
        "    store.run()\n",
        "except KeyboardInterrupt:\n",
        "    store._status = False\n",
        "    print(Comments.terminate_sale)"
      ]
    }
  ],
  "metadata": {
    "colab": {
      "collapsed_sections": [],
      "name": "OOP.ipynb",
      "provenance": []
    },
    "kernelspec": {
      "display_name": "Python 3",
      "name": "python3"
    }
  },
  "nbformat": 4,
  "nbformat_minor": 0
}
