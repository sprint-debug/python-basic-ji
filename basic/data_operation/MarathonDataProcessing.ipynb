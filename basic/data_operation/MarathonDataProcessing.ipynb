{
  "nbformat": 4,
  "nbformat_minor": 0,
  "metadata": {
    "colab": {
      "name": "MarathonDataProcessing.ipynb",
      "provenance": [],
      "collapsed_sections": [
        "yPfnWYIbuodQ",
        "fMjnpMMewAQl",
        "Da20EwmCxfn3",
        "g8qIBJeJyNaC",
        "8fFhN-2iy35G",
        "PUPkQ2Ew05TG"
      ]
    },
    "kernelspec": {
      "name": "python3",
      "display_name": "Python 3"
    },
    "language_info": {
      "name": "python"
    }
  },
  "cells": [
    {
      "cell_type": "markdown",
      "metadata": {
        "id": "E315y45juBqk"
      },
      "source": [
        "#0. Google Drive Mounting"
      ]
    },
    {
      "cell_type": "code",
      "metadata": {
        "colab": {
          "base_uri": "https://localhost:8080/"
        },
        "id": "njsG3F39uH_S",
        "outputId": "f010c4d6-a6fc-4aba-f520-0e96c53437a1"
      },
      "source": [
        "from google.colab import drive\n",
        "drive.mount('/gdrive')"
      ],
      "execution_count": 1,
      "outputs": [
        {
          "output_type": "stream",
          "text": [
            "Mounted at /gdrive\n"
          ],
          "name": "stdout"
        }
      ]
    },
    {
      "cell_type": "code",
      "metadata": {
        "colab": {
          "base_uri": "https://localhost:8080/"
        },
        "id": "-DEGHJQxt9J-",
        "outputId": "4e99b26e-0d63-4ce5-f967-0cb53bb6110a"
      },
      "source": [
        "!ls -al '/gdrive/My Drive/data'"
      ],
      "execution_count": 27,
      "outputs": [
        {
          "output_type": "stream",
          "text": [
            "total 23238\n",
            "-rw------- 1 root root 9373601 May 13 03:46 marathon_2015_2017.csv\n",
            "-rw------- 1 root root 1750754 Feb 22 17:41 marathon_2015_2017_qualifying.csv\n",
            "-rw------- 1 root root    1349 Aug 19  2019 marathon_qualifying_time.csv\n",
            "-rw------- 1 root root 4228123 Apr 29  2017 marathon_results_2015.csv\n",
            "-rw------- 1 root root 4244383 Apr 29  2017 marathon_results_2016.csv\n",
            "-rw------- 1 root root 4196246 Apr 29  2017 marathon_results_2017.csv\n"
          ],
          "name": "stdout"
        }
      ]
    },
    {
      "cell_type": "markdown",
      "metadata": {
        "id": "yPfnWYIbuodQ"
      },
      "source": [
        "#Step 1. Read Files"
      ]
    },
    {
      "cell_type": "code",
      "metadata": {
        "id": "0c5aryWMuvI1"
      },
      "source": [
        "# Import pandas as a alias 'pd'\n",
        "import pandas as pd"
      ],
      "execution_count": 3,
      "outputs": []
    },
    {
      "cell_type": "code",
      "metadata": {
        "id": "cPZ3apzGu3lB"
      },
      "source": [
        "# Load the CSV files \"marathon_results_2015 ~ 2017.csv\" under \"data\" folder\n",
        "marathon_2015 = pd.read_csv('/gdrive/My Drive/data/marathon_results_2015.csv')\n",
        "marathon_2016 = pd.read_csv('/gdrive/My Drive/data/marathon_results_2016.csv')\n",
        "marathon_2017 = pd.read_csv('/gdrive/My Drive/data/marathon_results_2017.csv')"
      ],
      "execution_count": 4,
      "outputs": []
    },
    {
      "cell_type": "code",
      "metadata": {
        "colab": {
          "base_uri": "https://localhost:8080/",
          "height": 326
        },
        "id": "z7MB3_nYvj59",
        "outputId": "816efe3b-9b86-4db4-d793-32c7bfba7d7b"
      },
      "source": [
        "marathon_2017.head()"
      ],
      "execution_count": 8,
      "outputs": [
        {
          "output_type": "execute_result",
          "data": {
            "text/html": [
              "<div>\n",
              "<style scoped>\n",
              "    .dataframe tbody tr th:only-of-type {\n",
              "        vertical-align: middle;\n",
              "    }\n",
              "\n",
              "    .dataframe tbody tr th {\n",
              "        vertical-align: top;\n",
              "    }\n",
              "\n",
              "    .dataframe thead th {\n",
              "        text-align: right;\n",
              "    }\n",
              "</style>\n",
              "<table border=\"1\" class=\"dataframe\">\n",
              "  <thead>\n",
              "    <tr style=\"text-align: right;\">\n",
              "      <th></th>\n",
              "      <th>Unnamed: 0</th>\n",
              "      <th>Bib</th>\n",
              "      <th>Name</th>\n",
              "      <th>Age</th>\n",
              "      <th>M/F</th>\n",
              "      <th>City</th>\n",
              "      <th>State</th>\n",
              "      <th>Country</th>\n",
              "      <th>Citizen</th>\n",
              "      <th>Unnamed: 9</th>\n",
              "      <th>5K</th>\n",
              "      <th>10K</th>\n",
              "      <th>15K</th>\n",
              "      <th>20K</th>\n",
              "      <th>Half</th>\n",
              "      <th>25K</th>\n",
              "      <th>30K</th>\n",
              "      <th>35K</th>\n",
              "      <th>40K</th>\n",
              "      <th>Pace</th>\n",
              "      <th>Proj Time</th>\n",
              "      <th>Official Time</th>\n",
              "      <th>Overall</th>\n",
              "      <th>Gender</th>\n",
              "      <th>Division</th>\n",
              "    </tr>\n",
              "  </thead>\n",
              "  <tbody>\n",
              "    <tr>\n",
              "      <th>0</th>\n",
              "      <td>0</td>\n",
              "      <td>11</td>\n",
              "      <td>Kirui, Geoffrey</td>\n",
              "      <td>24</td>\n",
              "      <td>M</td>\n",
              "      <td>Keringet</td>\n",
              "      <td>NaN</td>\n",
              "      <td>KEN</td>\n",
              "      <td>NaN</td>\n",
              "      <td>NaN</td>\n",
              "      <td>0:15:25</td>\n",
              "      <td>0:30:28</td>\n",
              "      <td>0:45:44</td>\n",
              "      <td>1:01:15</td>\n",
              "      <td>1:04:35</td>\n",
              "      <td>1:16:59</td>\n",
              "      <td>1:33:01</td>\n",
              "      <td>1:48:19</td>\n",
              "      <td>2:02:53</td>\n",
              "      <td>0:04:57</td>\n",
              "      <td>-</td>\n",
              "      <td>2:09:37</td>\n",
              "      <td>1</td>\n",
              "      <td>1</td>\n",
              "      <td>1</td>\n",
              "    </tr>\n",
              "    <tr>\n",
              "      <th>1</th>\n",
              "      <td>1</td>\n",
              "      <td>17</td>\n",
              "      <td>Rupp, Galen</td>\n",
              "      <td>30</td>\n",
              "      <td>M</td>\n",
              "      <td>Portland</td>\n",
              "      <td>OR</td>\n",
              "      <td>USA</td>\n",
              "      <td>NaN</td>\n",
              "      <td>NaN</td>\n",
              "      <td>0:15:24</td>\n",
              "      <td>0:30:27</td>\n",
              "      <td>0:45:44</td>\n",
              "      <td>1:01:15</td>\n",
              "      <td>1:04:35</td>\n",
              "      <td>1:16:59</td>\n",
              "      <td>1:33:01</td>\n",
              "      <td>1:48:19</td>\n",
              "      <td>2:03:14</td>\n",
              "      <td>0:04:58</td>\n",
              "      <td>-</td>\n",
              "      <td>2:09:58</td>\n",
              "      <td>2</td>\n",
              "      <td>2</td>\n",
              "      <td>2</td>\n",
              "    </tr>\n",
              "    <tr>\n",
              "      <th>2</th>\n",
              "      <td>2</td>\n",
              "      <td>23</td>\n",
              "      <td>Osako, Suguru</td>\n",
              "      <td>25</td>\n",
              "      <td>M</td>\n",
              "      <td>Machida-City</td>\n",
              "      <td>NaN</td>\n",
              "      <td>JPN</td>\n",
              "      <td>NaN</td>\n",
              "      <td>NaN</td>\n",
              "      <td>0:15:25</td>\n",
              "      <td>0:30:29</td>\n",
              "      <td>0:45:44</td>\n",
              "      <td>1:01:16</td>\n",
              "      <td>1:04:36</td>\n",
              "      <td>1:17:00</td>\n",
              "      <td>1:33:01</td>\n",
              "      <td>1:48:31</td>\n",
              "      <td>2:03:38</td>\n",
              "      <td>0:04:59</td>\n",
              "      <td>-</td>\n",
              "      <td>2:10:28</td>\n",
              "      <td>3</td>\n",
              "      <td>3</td>\n",
              "      <td>3</td>\n",
              "    </tr>\n",
              "    <tr>\n",
              "      <th>3</th>\n",
              "      <td>3</td>\n",
              "      <td>21</td>\n",
              "      <td>Biwott, Shadrack</td>\n",
              "      <td>32</td>\n",
              "      <td>M</td>\n",
              "      <td>Mammoth Lakes</td>\n",
              "      <td>CA</td>\n",
              "      <td>USA</td>\n",
              "      <td>NaN</td>\n",
              "      <td>NaN</td>\n",
              "      <td>0:15:25</td>\n",
              "      <td>0:30:29</td>\n",
              "      <td>0:45:44</td>\n",
              "      <td>1:01:19</td>\n",
              "      <td>1:04:45</td>\n",
              "      <td>1:17:00</td>\n",
              "      <td>1:33:01</td>\n",
              "      <td>1:48:58</td>\n",
              "      <td>2:04:35</td>\n",
              "      <td>0:05:03</td>\n",
              "      <td>-</td>\n",
              "      <td>2:12:08</td>\n",
              "      <td>4</td>\n",
              "      <td>4</td>\n",
              "      <td>4</td>\n",
              "    </tr>\n",
              "    <tr>\n",
              "      <th>4</th>\n",
              "      <td>4</td>\n",
              "      <td>9</td>\n",
              "      <td>Chebet, Wilson</td>\n",
              "      <td>31</td>\n",
              "      <td>M</td>\n",
              "      <td>Marakwet</td>\n",
              "      <td>NaN</td>\n",
              "      <td>KEN</td>\n",
              "      <td>NaN</td>\n",
              "      <td>NaN</td>\n",
              "      <td>0:15:25</td>\n",
              "      <td>0:30:28</td>\n",
              "      <td>0:45:44</td>\n",
              "      <td>1:01:15</td>\n",
              "      <td>1:04:35</td>\n",
              "      <td>1:16:59</td>\n",
              "      <td>1:33:01</td>\n",
              "      <td>1:48:41</td>\n",
              "      <td>2:05:00</td>\n",
              "      <td>0:05:04</td>\n",
              "      <td>-</td>\n",
              "      <td>2:12:35</td>\n",
              "      <td>5</td>\n",
              "      <td>5</td>\n",
              "      <td>5</td>\n",
              "    </tr>\n",
              "  </tbody>\n",
              "</table>\n",
              "</div>"
            ],
            "text/plain": [
              "   Unnamed: 0 Bib              Name  ...  Overall Gender Division\n",
              "0           0  11   Kirui, Geoffrey  ...        1      1        1\n",
              "1           1  17       Rupp, Galen  ...        2      2        2\n",
              "2           2  23     Osako, Suguru  ...        3      3        3\n",
              "3           3  21  Biwott, Shadrack  ...        4      4        4\n",
              "4           4   9    Chebet, Wilson  ...        5      5        5\n",
              "\n",
              "[5 rows x 25 columns]"
            ]
          },
          "metadata": {
            "tags": []
          },
          "execution_count": 8
        }
      ]
    },
    {
      "cell_type": "code",
      "metadata": {
        "colab": {
          "base_uri": "https://localhost:8080/"
        },
        "id": "wBDPbOTKvxad",
        "outputId": "a5938bb1-b76f-4f54-fd20-e941b007fec5"
      },
      "source": [
        "marathon_2017.info()"
      ],
      "execution_count": 11,
      "outputs": [
        {
          "output_type": "stream",
          "text": [
            "<class 'pandas.core.frame.DataFrame'>\n",
            "RangeIndex: 26410 entries, 0 to 26409\n",
            "Data columns (total 25 columns):\n",
            " #   Column         Non-Null Count  Dtype \n",
            "---  ------         --------------  ----- \n",
            " 0   Unnamed: 0     26410 non-null  int64 \n",
            " 1   Bib            26410 non-null  object\n",
            " 2   Name           26410 non-null  object\n",
            " 3   Age            26410 non-null  int64 \n",
            " 4   M/F            26410 non-null  object\n",
            " 5   City           26410 non-null  object\n",
            " 6   State          22815 non-null  object\n",
            " 7   Country        26410 non-null  object\n",
            " 8   Citizen        1254 non-null   object\n",
            " 9   Unnamed: 9     91 non-null     object\n",
            " 10  5K             26410 non-null  object\n",
            " 11  10K            26410 non-null  object\n",
            " 12  15K            26410 non-null  object\n",
            " 13  20K            26410 non-null  object\n",
            " 14  Half           26410 non-null  object\n",
            " 15  25K            26410 non-null  object\n",
            " 16  30K            26410 non-null  object\n",
            " 17  35K            26410 non-null  object\n",
            " 18  40K            26410 non-null  object\n",
            " 19  Pace           26410 non-null  object\n",
            " 20  Proj Time      26410 non-null  object\n",
            " 21  Official Time  26410 non-null  object\n",
            " 22  Overall        26410 non-null  int64 \n",
            " 23  Gender         26410 non-null  int64 \n",
            " 24  Division       26410 non-null  int64 \n",
            "dtypes: int64(5), object(20)\n",
            "memory usage: 5.0+ MB\n"
          ],
          "name": "stdout"
        }
      ]
    },
    {
      "cell_type": "markdown",
      "metadata": {
        "id": "fMjnpMMewAQl"
      },
      "source": [
        "#Step 2. Add Year column "
      ]
    },
    {
      "cell_type": "code",
      "metadata": {
        "id": "3Kk7rtIpwTIF"
      },
      "source": [
        "# Add Year column to the CSV files \"marathon_results_2015 ~ 2017.csv\"\n",
        "marathon_2015['Year'] = '2015'\n",
        "marathon_2016['Year'] = '2016'\n",
        "marathon_2017['Year'] = '2017'"
      ],
      "execution_count": 12,
      "outputs": []
    },
    {
      "cell_type": "code",
      "metadata": {
        "colab": {
          "base_uri": "https://localhost:8080/",
          "height": 326
        },
        "id": "L_tEf53dwjmF",
        "outputId": "0fb81e6e-6b62-4dc5-b14a-bbd2108add1e"
      },
      "source": [
        "marathon_2017.head()"
      ],
      "execution_count": 15,
      "outputs": [
        {
          "output_type": "execute_result",
          "data": {
            "text/html": [
              "<div>\n",
              "<style scoped>\n",
              "    .dataframe tbody tr th:only-of-type {\n",
              "        vertical-align: middle;\n",
              "    }\n",
              "\n",
              "    .dataframe tbody tr th {\n",
              "        vertical-align: top;\n",
              "    }\n",
              "\n",
              "    .dataframe thead th {\n",
              "        text-align: right;\n",
              "    }\n",
              "</style>\n",
              "<table border=\"1\" class=\"dataframe\">\n",
              "  <thead>\n",
              "    <tr style=\"text-align: right;\">\n",
              "      <th></th>\n",
              "      <th>Unnamed: 0</th>\n",
              "      <th>Bib</th>\n",
              "      <th>Name</th>\n",
              "      <th>Age</th>\n",
              "      <th>M/F</th>\n",
              "      <th>City</th>\n",
              "      <th>State</th>\n",
              "      <th>Country</th>\n",
              "      <th>Citizen</th>\n",
              "      <th>Unnamed: 9</th>\n",
              "      <th>5K</th>\n",
              "      <th>10K</th>\n",
              "      <th>15K</th>\n",
              "      <th>20K</th>\n",
              "      <th>Half</th>\n",
              "      <th>25K</th>\n",
              "      <th>30K</th>\n",
              "      <th>35K</th>\n",
              "      <th>40K</th>\n",
              "      <th>Pace</th>\n",
              "      <th>Proj Time</th>\n",
              "      <th>Official Time</th>\n",
              "      <th>Overall</th>\n",
              "      <th>Gender</th>\n",
              "      <th>Division</th>\n",
              "      <th>Year</th>\n",
              "    </tr>\n",
              "  </thead>\n",
              "  <tbody>\n",
              "    <tr>\n",
              "      <th>0</th>\n",
              "      <td>0</td>\n",
              "      <td>11</td>\n",
              "      <td>Kirui, Geoffrey</td>\n",
              "      <td>24</td>\n",
              "      <td>M</td>\n",
              "      <td>Keringet</td>\n",
              "      <td>NaN</td>\n",
              "      <td>KEN</td>\n",
              "      <td>NaN</td>\n",
              "      <td>NaN</td>\n",
              "      <td>0:15:25</td>\n",
              "      <td>0:30:28</td>\n",
              "      <td>0:45:44</td>\n",
              "      <td>1:01:15</td>\n",
              "      <td>1:04:35</td>\n",
              "      <td>1:16:59</td>\n",
              "      <td>1:33:01</td>\n",
              "      <td>1:48:19</td>\n",
              "      <td>2:02:53</td>\n",
              "      <td>0:04:57</td>\n",
              "      <td>-</td>\n",
              "      <td>2:09:37</td>\n",
              "      <td>1</td>\n",
              "      <td>1</td>\n",
              "      <td>1</td>\n",
              "      <td>2017</td>\n",
              "    </tr>\n",
              "    <tr>\n",
              "      <th>1</th>\n",
              "      <td>1</td>\n",
              "      <td>17</td>\n",
              "      <td>Rupp, Galen</td>\n",
              "      <td>30</td>\n",
              "      <td>M</td>\n",
              "      <td>Portland</td>\n",
              "      <td>OR</td>\n",
              "      <td>USA</td>\n",
              "      <td>NaN</td>\n",
              "      <td>NaN</td>\n",
              "      <td>0:15:24</td>\n",
              "      <td>0:30:27</td>\n",
              "      <td>0:45:44</td>\n",
              "      <td>1:01:15</td>\n",
              "      <td>1:04:35</td>\n",
              "      <td>1:16:59</td>\n",
              "      <td>1:33:01</td>\n",
              "      <td>1:48:19</td>\n",
              "      <td>2:03:14</td>\n",
              "      <td>0:04:58</td>\n",
              "      <td>-</td>\n",
              "      <td>2:09:58</td>\n",
              "      <td>2</td>\n",
              "      <td>2</td>\n",
              "      <td>2</td>\n",
              "      <td>2017</td>\n",
              "    </tr>\n",
              "    <tr>\n",
              "      <th>2</th>\n",
              "      <td>2</td>\n",
              "      <td>23</td>\n",
              "      <td>Osako, Suguru</td>\n",
              "      <td>25</td>\n",
              "      <td>M</td>\n",
              "      <td>Machida-City</td>\n",
              "      <td>NaN</td>\n",
              "      <td>JPN</td>\n",
              "      <td>NaN</td>\n",
              "      <td>NaN</td>\n",
              "      <td>0:15:25</td>\n",
              "      <td>0:30:29</td>\n",
              "      <td>0:45:44</td>\n",
              "      <td>1:01:16</td>\n",
              "      <td>1:04:36</td>\n",
              "      <td>1:17:00</td>\n",
              "      <td>1:33:01</td>\n",
              "      <td>1:48:31</td>\n",
              "      <td>2:03:38</td>\n",
              "      <td>0:04:59</td>\n",
              "      <td>-</td>\n",
              "      <td>2:10:28</td>\n",
              "      <td>3</td>\n",
              "      <td>3</td>\n",
              "      <td>3</td>\n",
              "      <td>2017</td>\n",
              "    </tr>\n",
              "    <tr>\n",
              "      <th>3</th>\n",
              "      <td>3</td>\n",
              "      <td>21</td>\n",
              "      <td>Biwott, Shadrack</td>\n",
              "      <td>32</td>\n",
              "      <td>M</td>\n",
              "      <td>Mammoth Lakes</td>\n",
              "      <td>CA</td>\n",
              "      <td>USA</td>\n",
              "      <td>NaN</td>\n",
              "      <td>NaN</td>\n",
              "      <td>0:15:25</td>\n",
              "      <td>0:30:29</td>\n",
              "      <td>0:45:44</td>\n",
              "      <td>1:01:19</td>\n",
              "      <td>1:04:45</td>\n",
              "      <td>1:17:00</td>\n",
              "      <td>1:33:01</td>\n",
              "      <td>1:48:58</td>\n",
              "      <td>2:04:35</td>\n",
              "      <td>0:05:03</td>\n",
              "      <td>-</td>\n",
              "      <td>2:12:08</td>\n",
              "      <td>4</td>\n",
              "      <td>4</td>\n",
              "      <td>4</td>\n",
              "      <td>2017</td>\n",
              "    </tr>\n",
              "    <tr>\n",
              "      <th>4</th>\n",
              "      <td>4</td>\n",
              "      <td>9</td>\n",
              "      <td>Chebet, Wilson</td>\n",
              "      <td>31</td>\n",
              "      <td>M</td>\n",
              "      <td>Marakwet</td>\n",
              "      <td>NaN</td>\n",
              "      <td>KEN</td>\n",
              "      <td>NaN</td>\n",
              "      <td>NaN</td>\n",
              "      <td>0:15:25</td>\n",
              "      <td>0:30:28</td>\n",
              "      <td>0:45:44</td>\n",
              "      <td>1:01:15</td>\n",
              "      <td>1:04:35</td>\n",
              "      <td>1:16:59</td>\n",
              "      <td>1:33:01</td>\n",
              "      <td>1:48:41</td>\n",
              "      <td>2:05:00</td>\n",
              "      <td>0:05:04</td>\n",
              "      <td>-</td>\n",
              "      <td>2:12:35</td>\n",
              "      <td>5</td>\n",
              "      <td>5</td>\n",
              "      <td>5</td>\n",
              "      <td>2017</td>\n",
              "    </tr>\n",
              "  </tbody>\n",
              "</table>\n",
              "</div>"
            ],
            "text/plain": [
              "   Unnamed: 0 Bib              Name  Age  ... Overall Gender Division  Year\n",
              "0           0  11   Kirui, Geoffrey   24  ...       1      1        1  2017\n",
              "1           1  17       Rupp, Galen   30  ...       2      2        2  2017\n",
              "2           2  23     Osako, Suguru   25  ...       3      3        3  2017\n",
              "3           3  21  Biwott, Shadrack   32  ...       4      4        4  2017\n",
              "4           4   9    Chebet, Wilson   31  ...       5      5        5  2017\n",
              "\n",
              "[5 rows x 26 columns]"
            ]
          },
          "metadata": {
            "tags": []
          },
          "execution_count": 15
        }
      ]
    },
    {
      "cell_type": "markdown",
      "metadata": {
        "id": "Da20EwmCxfn3"
      },
      "source": [
        "#Step 3. Merge Files"
      ]
    },
    {
      "cell_type": "code",
      "metadata": {
        "id": "c4hH9x_RxlMK"
      },
      "source": [
        "# Merge 2015, 2016 and 2017 files into marathon_2015_2017 file\n",
        "marathon_2015_2017 = pd.concat([marathon_2015, marathon_2016, marathon_2017], ignore_index=True, sort=False)"
      ],
      "execution_count": 16,
      "outputs": []
    },
    {
      "cell_type": "code",
      "metadata": {
        "colab": {
          "base_uri": "https://localhost:8080/"
        },
        "id": "kqec1Ifqx5b2",
        "outputId": "e6a3b9b9-759f-4322-e307-2d2340328e68"
      },
      "source": [
        "marathon_2015_2017.info()"
      ],
      "execution_count": 17,
      "outputs": [
        {
          "output_type": "stream",
          "text": [
            "<class 'pandas.core.frame.DataFrame'>\n",
            "RangeIndex: 79638 entries, 0 to 79637\n",
            "Data columns (total 27 columns):\n",
            " #   Column         Non-Null Count  Dtype  \n",
            "---  ------         --------------  -----  \n",
            " 0   Unnamed: 0     53008 non-null  float64\n",
            " 1   Bib            79638 non-null  object \n",
            " 2   Name           79638 non-null  object \n",
            " 3   Age            79638 non-null  int64  \n",
            " 4   M/F            79638 non-null  object \n",
            " 5   City           79637 non-null  object \n",
            " 6   State          70645 non-null  object \n",
            " 7   Country        79638 non-null  object \n",
            " 8   Citizen        3440 non-null   object \n",
            " 9   Unnamed: 9     158 non-null    object \n",
            " 10  5K             79638 non-null  object \n",
            " 11  10K            79638 non-null  object \n",
            " 12  15K            79638 non-null  object \n",
            " 13  20K            79638 non-null  object \n",
            " 14  Half           79638 non-null  object \n",
            " 15  25K            79638 non-null  object \n",
            " 16  30K            79638 non-null  object \n",
            " 17  35K            79638 non-null  object \n",
            " 18  40K            79638 non-null  object \n",
            " 19  Pace           79638 non-null  object \n",
            " 20  Proj Time      79638 non-null  object \n",
            " 21  Official Time  79638 non-null  object \n",
            " 22  Overall        79638 non-null  int64  \n",
            " 23  Gender         79638 non-null  int64  \n",
            " 24  Division       79638 non-null  int64  \n",
            " 25  Year           79638 non-null  object \n",
            " 26  Unnamed: 8     83 non-null     object \n",
            "dtypes: float64(1), int64(4), object(22)\n",
            "memory usage: 16.4+ MB\n"
          ],
          "name": "stdout"
        }
      ]
    },
    {
      "cell_type": "markdown",
      "metadata": {
        "id": "g8qIBJeJyNaC"
      },
      "source": [
        "#Step 4. Drop columns"
      ]
    },
    {
      "cell_type": "code",
      "metadata": {
        "id": "1HN4NhEUyXg6"
      },
      "source": [
        "#Drop unnecessary columns \n",
        "marathon_2015_2017 = marathon_2015_2017.drop(['Unnamed: 0','Bib', 'Citizen', 'Unnamed: 9', 'Proj Time', 'Unnamed: 8'], axis='columns')"
      ],
      "execution_count": 18,
      "outputs": []
    },
    {
      "cell_type": "code",
      "metadata": {
        "colab": {
          "base_uri": "https://localhost:8080/"
        },
        "id": "MfiIUHSZyrQ9",
        "outputId": "871ec5e8-3b6b-4ee2-a76e-9cd2928b84e2"
      },
      "source": [
        "marathon_2015_2017.info()"
      ],
      "execution_count": 19,
      "outputs": [
        {
          "output_type": "stream",
          "text": [
            "<class 'pandas.core.frame.DataFrame'>\n",
            "RangeIndex: 79638 entries, 0 to 79637\n",
            "Data columns (total 21 columns):\n",
            " #   Column         Non-Null Count  Dtype \n",
            "---  ------         --------------  ----- \n",
            " 0   Name           79638 non-null  object\n",
            " 1   Age            79638 non-null  int64 \n",
            " 2   M/F            79638 non-null  object\n",
            " 3   City           79637 non-null  object\n",
            " 4   State          70645 non-null  object\n",
            " 5   Country        79638 non-null  object\n",
            " 6   5K             79638 non-null  object\n",
            " 7   10K            79638 non-null  object\n",
            " 8   15K            79638 non-null  object\n",
            " 9   20K            79638 non-null  object\n",
            " 10  Half           79638 non-null  object\n",
            " 11  25K            79638 non-null  object\n",
            " 12  30K            79638 non-null  object\n",
            " 13  35K            79638 non-null  object\n",
            " 14  40K            79638 non-null  object\n",
            " 15  Pace           79638 non-null  object\n",
            " 16  Official Time  79638 non-null  object\n",
            " 17  Overall        79638 non-null  int64 \n",
            " 18  Gender         79638 non-null  int64 \n",
            " 19  Division       79638 non-null  int64 \n",
            " 20  Year           79638 non-null  object\n",
            "dtypes: int64(4), object(17)\n",
            "memory usage: 12.8+ MB\n"
          ],
          "name": "stdout"
        }
      ]
    },
    {
      "cell_type": "markdown",
      "metadata": {
        "id": "8fFhN-2iy35G"
      },
      "source": [
        "#Step 5. Convert columns value"
      ]
    },
    {
      "cell_type": "code",
      "metadata": {
        "id": "bJAGElWDzQVp"
      },
      "source": [
        "# Import Numpy Library and call it as np\n",
        "import numpy as np"
      ],
      "execution_count": 20,
      "outputs": []
    },
    {
      "cell_type": "code",
      "metadata": {
        "id": "QPFDlS4Wzb63"
      },
      "source": [
        "# Convert using pandas to_timedelta method\n",
        "marathon_2015_2017['5K'] = pd.to_timedelta(marathon_2015_2017['5K'])\n",
        "marathon_2015_2017['10K'] = pd.to_timedelta(marathon_2015_2017['10K'])\n",
        "marathon_2015_2017['15K'] = pd.to_timedelta(marathon_2015_2017['15K'])\n",
        "marathon_2015_2017['20K'] = pd.to_timedelta(marathon_2015_2017['20K'])\n",
        "marathon_2015_2017['Half'] = pd.to_timedelta(marathon_2015_2017['Half'])\n",
        "marathon_2015_2017['25K'] = pd.to_timedelta(marathon_2015_2017['25K'])\n",
        "marathon_2015_2017['30K'] = pd.to_timedelta(marathon_2015_2017['30K'])\n",
        "marathon_2015_2017['35K'] = pd.to_timedelta(marathon_2015_2017['35K'])\n",
        "marathon_2015_2017['40K'] = pd.to_timedelta(marathon_2015_2017['40K'])\n",
        "marathon_2015_2017['Pace'] = pd.to_timedelta(marathon_2015_2017['Pace'])\n",
        "marathon_2015_2017['Official Time'] = pd.to_timedelta(marathon_2015_2017['Official Time'])"
      ],
      "execution_count": 21,
      "outputs": []
    },
    {
      "cell_type": "code",
      "metadata": {
        "colab": {
          "base_uri": "https://localhost:8080/",
          "height": 343
        },
        "id": "6c7vX0X10Bg2",
        "outputId": "1a0af711-e007-42e9-f1e7-a736c2062475"
      },
      "source": [
        "marathon_2015_2017.head()"
      ],
      "execution_count": 22,
      "outputs": [
        {
          "output_type": "execute_result",
          "data": {
            "text/html": [
              "<div>\n",
              "<style scoped>\n",
              "    .dataframe tbody tr th:only-of-type {\n",
              "        vertical-align: middle;\n",
              "    }\n",
              "\n",
              "    .dataframe tbody tr th {\n",
              "        vertical-align: top;\n",
              "    }\n",
              "\n",
              "    .dataframe thead th {\n",
              "        text-align: right;\n",
              "    }\n",
              "</style>\n",
              "<table border=\"1\" class=\"dataframe\">\n",
              "  <thead>\n",
              "    <tr style=\"text-align: right;\">\n",
              "      <th></th>\n",
              "      <th>Name</th>\n",
              "      <th>Age</th>\n",
              "      <th>M/F</th>\n",
              "      <th>City</th>\n",
              "      <th>State</th>\n",
              "      <th>Country</th>\n",
              "      <th>5K</th>\n",
              "      <th>10K</th>\n",
              "      <th>15K</th>\n",
              "      <th>20K</th>\n",
              "      <th>Half</th>\n",
              "      <th>25K</th>\n",
              "      <th>30K</th>\n",
              "      <th>35K</th>\n",
              "      <th>40K</th>\n",
              "      <th>Pace</th>\n",
              "      <th>Official Time</th>\n",
              "      <th>Overall</th>\n",
              "      <th>Gender</th>\n",
              "      <th>Division</th>\n",
              "      <th>Year</th>\n",
              "    </tr>\n",
              "  </thead>\n",
              "  <tbody>\n",
              "    <tr>\n",
              "      <th>0</th>\n",
              "      <td>Desisa, Lelisa</td>\n",
              "      <td>25</td>\n",
              "      <td>M</td>\n",
              "      <td>Ambo</td>\n",
              "      <td>NaN</td>\n",
              "      <td>ETH</td>\n",
              "      <td>0 days 00:14:43</td>\n",
              "      <td>0 days 00:29:43</td>\n",
              "      <td>0 days 00:44:57</td>\n",
              "      <td>0 days 01:00:29</td>\n",
              "      <td>0 days 01:04:02</td>\n",
              "      <td>0 days 01:16:07</td>\n",
              "      <td>0 days 01:32:00</td>\n",
              "      <td>0 days 01:47:59</td>\n",
              "      <td>0 days 02:02:39</td>\n",
              "      <td>0 days 00:04:56</td>\n",
              "      <td>0 days 02:09:17</td>\n",
              "      <td>1</td>\n",
              "      <td>1</td>\n",
              "      <td>1</td>\n",
              "      <td>2015</td>\n",
              "    </tr>\n",
              "    <tr>\n",
              "      <th>1</th>\n",
              "      <td>Tsegay, Yemane Adhane</td>\n",
              "      <td>30</td>\n",
              "      <td>M</td>\n",
              "      <td>Addis Ababa</td>\n",
              "      <td>NaN</td>\n",
              "      <td>ETH</td>\n",
              "      <td>0 days 00:14:43</td>\n",
              "      <td>0 days 00:29:43</td>\n",
              "      <td>0 days 00:44:58</td>\n",
              "      <td>0 days 01:00:28</td>\n",
              "      <td>0 days 01:04:01</td>\n",
              "      <td>0 days 01:16:07</td>\n",
              "      <td>0 days 01:31:59</td>\n",
              "      <td>0 days 01:47:59</td>\n",
              "      <td>0 days 02:02:42</td>\n",
              "      <td>0 days 00:04:58</td>\n",
              "      <td>0 days 02:09:48</td>\n",
              "      <td>2</td>\n",
              "      <td>2</td>\n",
              "      <td>2</td>\n",
              "      <td>2015</td>\n",
              "    </tr>\n",
              "    <tr>\n",
              "      <th>2</th>\n",
              "      <td>Chebet, Wilson</td>\n",
              "      <td>29</td>\n",
              "      <td>M</td>\n",
              "      <td>Marakwet</td>\n",
              "      <td>NaN</td>\n",
              "      <td>KEN</td>\n",
              "      <td>0 days 00:14:43</td>\n",
              "      <td>0 days 00:29:43</td>\n",
              "      <td>0 days 00:44:57</td>\n",
              "      <td>0 days 01:00:29</td>\n",
              "      <td>0 days 01:04:02</td>\n",
              "      <td>0 days 01:16:07</td>\n",
              "      <td>0 days 01:32:00</td>\n",
              "      <td>0 days 01:47:59</td>\n",
              "      <td>0 days 02:03:01</td>\n",
              "      <td>0 days 00:04:59</td>\n",
              "      <td>0 days 02:10:22</td>\n",
              "      <td>3</td>\n",
              "      <td>3</td>\n",
              "      <td>3</td>\n",
              "      <td>2015</td>\n",
              "    </tr>\n",
              "    <tr>\n",
              "      <th>3</th>\n",
              "      <td>Kipyego, Bernard</td>\n",
              "      <td>28</td>\n",
              "      <td>M</td>\n",
              "      <td>Eldoret</td>\n",
              "      <td>NaN</td>\n",
              "      <td>KEN</td>\n",
              "      <td>0 days 00:14:43</td>\n",
              "      <td>0 days 00:29:44</td>\n",
              "      <td>0 days 00:45:01</td>\n",
              "      <td>0 days 01:00:29</td>\n",
              "      <td>0 days 01:04:02</td>\n",
              "      <td>0 days 01:16:07</td>\n",
              "      <td>0 days 01:32:00</td>\n",
              "      <td>0 days 01:48:03</td>\n",
              "      <td>0 days 02:03:47</td>\n",
              "      <td>0 days 00:05:00</td>\n",
              "      <td>0 days 02:10:47</td>\n",
              "      <td>4</td>\n",
              "      <td>4</td>\n",
              "      <td>4</td>\n",
              "      <td>2015</td>\n",
              "    </tr>\n",
              "    <tr>\n",
              "      <th>4</th>\n",
              "      <td>Korir, Wesley</td>\n",
              "      <td>32</td>\n",
              "      <td>M</td>\n",
              "      <td>Kitale</td>\n",
              "      <td>NaN</td>\n",
              "      <td>KEN</td>\n",
              "      <td>0 days 00:14:43</td>\n",
              "      <td>0 days 00:29:44</td>\n",
              "      <td>0 days 00:44:58</td>\n",
              "      <td>0 days 01:00:28</td>\n",
              "      <td>0 days 01:04:01</td>\n",
              "      <td>0 days 01:16:07</td>\n",
              "      <td>0 days 01:32:00</td>\n",
              "      <td>0 days 01:47:59</td>\n",
              "      <td>0 days 02:03:27</td>\n",
              "      <td>0 days 00:05:00</td>\n",
              "      <td>0 days 02:10:49</td>\n",
              "      <td>5</td>\n",
              "      <td>5</td>\n",
              "      <td>5</td>\n",
              "      <td>2015</td>\n",
              "    </tr>\n",
              "  </tbody>\n",
              "</table>\n",
              "</div>"
            ],
            "text/plain": [
              "                    Name  Age M/F         City  ... Overall Gender Division  Year\n",
              "0         Desisa, Lelisa   25   M         Ambo  ...       1      1        1  2015\n",
              "1  Tsegay, Yemane Adhane   30   M  Addis Ababa  ...       2      2        2  2015\n",
              "2         Chebet, Wilson   29   M     Marakwet  ...       3      3        3  2015\n",
              "3       Kipyego, Bernard   28   M      Eldoret  ...       4      4        4  2015\n",
              "4          Korir, Wesley   32   M       Kitale  ...       5      5        5  2015\n",
              "\n",
              "[5 rows x 21 columns]"
            ]
          },
          "metadata": {
            "tags": []
          },
          "execution_count": 22
        }
      ]
    },
    {
      "cell_type": "code",
      "metadata": {
        "colab": {
          "base_uri": "https://localhost:8080/"
        },
        "id": "eJpAqB1h0JXg",
        "outputId": "1317bce7-4c15-4579-ee0c-f72025f077f7"
      },
      "source": [
        "marathon_2015_2017.info()"
      ],
      "execution_count": 23,
      "outputs": [
        {
          "output_type": "stream",
          "text": [
            "<class 'pandas.core.frame.DataFrame'>\n",
            "RangeIndex: 79638 entries, 0 to 79637\n",
            "Data columns (total 21 columns):\n",
            " #   Column         Non-Null Count  Dtype          \n",
            "---  ------         --------------  -----          \n",
            " 0   Name           79638 non-null  object         \n",
            " 1   Age            79638 non-null  int64          \n",
            " 2   M/F            79638 non-null  object         \n",
            " 3   City           79637 non-null  object         \n",
            " 4   State          70645 non-null  object         \n",
            " 5   Country        79638 non-null  object         \n",
            " 6   5K             79638 non-null  timedelta64[ns]\n",
            " 7   10K            79638 non-null  timedelta64[ns]\n",
            " 8   15K            79638 non-null  timedelta64[ns]\n",
            " 9   20K            79638 non-null  timedelta64[ns]\n",
            " 10  Half           79638 non-null  timedelta64[ns]\n",
            " 11  25K            79638 non-null  timedelta64[ns]\n",
            " 12  30K            79638 non-null  timedelta64[ns]\n",
            " 13  35K            79638 non-null  timedelta64[ns]\n",
            " 14  40K            79638 non-null  timedelta64[ns]\n",
            " 15  Pace           79638 non-null  timedelta64[ns]\n",
            " 16  Official Time  79638 non-null  timedelta64[ns]\n",
            " 17  Overall        79638 non-null  int64          \n",
            " 18  Gender         79638 non-null  int64          \n",
            " 19  Division       79638 non-null  int64          \n",
            " 20  Year           79638 non-null  object         \n",
            "dtypes: int64(4), object(6), timedelta64[ns](11)\n",
            "memory usage: 12.8+ MB\n"
          ],
          "name": "stdout"
        }
      ]
    },
    {
      "cell_type": "code",
      "metadata": {
        "id": "DDHNlz6Q0R5K"
      },
      "source": [
        "# Convert time to seconds value using astype method\n",
        "marathon_2015_2017['5K'] = marathon_2015_2017['5K'].astype('m8[s]').astype(np.int64)\n",
        "marathon_2015_2017['10K'] = marathon_2015_2017['10K'].astype('m8[s]').astype(np.int64)\n",
        "marathon_2015_2017['15K'] = marathon_2015_2017['15K'].astype('m8[s]').astype(np.int64)\n",
        "marathon_2015_2017['20K'] = marathon_2015_2017['20K'].astype('m8[s]').astype(np.int64)\n",
        "marathon_2015_2017['Half'] = marathon_2015_2017['Half'].astype('m8[s]').astype(np.int64)\n",
        "marathon_2015_2017['25K'] = marathon_2015_2017['25K'].astype('m8[s]').astype(np.int64)\n",
        "marathon_2015_2017['30K'] = marathon_2015_2017['30K'].astype('m8[s]').astype(np.int64)\n",
        "marathon_2015_2017['35K'] = marathon_2015_2017['35K'].astype('m8[s]').astype(np.int64)\n",
        "marathon_2015_2017['40K'] = marathon_2015_2017['40K'].astype('m8[s]').astype(np.int64)\n",
        "marathon_2015_2017['Pace'] = marathon_2015_2017['Pace'].astype('m8[s]').astype(np.int64)\n",
        "marathon_2015_2017['Official Time'] = marathon_2015_2017['Official Time'].astype('m8[s]').astype(np.int64)"
      ],
      "execution_count": 24,
      "outputs": []
    },
    {
      "cell_type": "code",
      "metadata": {
        "colab": {
          "base_uri": "https://localhost:8080/",
          "height": 272
        },
        "id": "y6qboGS20p7m",
        "outputId": "2e0a6eab-6d4b-40c6-aebf-525c5dd5db77"
      },
      "source": [
        "marathon_2015_2017.head()"
      ],
      "execution_count": 25,
      "outputs": [
        {
          "output_type": "execute_result",
          "data": {
            "text/html": [
              "<div>\n",
              "<style scoped>\n",
              "    .dataframe tbody tr th:only-of-type {\n",
              "        vertical-align: middle;\n",
              "    }\n",
              "\n",
              "    .dataframe tbody tr th {\n",
              "        vertical-align: top;\n",
              "    }\n",
              "\n",
              "    .dataframe thead th {\n",
              "        text-align: right;\n",
              "    }\n",
              "</style>\n",
              "<table border=\"1\" class=\"dataframe\">\n",
              "  <thead>\n",
              "    <tr style=\"text-align: right;\">\n",
              "      <th></th>\n",
              "      <th>Name</th>\n",
              "      <th>Age</th>\n",
              "      <th>M/F</th>\n",
              "      <th>City</th>\n",
              "      <th>State</th>\n",
              "      <th>Country</th>\n",
              "      <th>5K</th>\n",
              "      <th>10K</th>\n",
              "      <th>15K</th>\n",
              "      <th>20K</th>\n",
              "      <th>Half</th>\n",
              "      <th>25K</th>\n",
              "      <th>30K</th>\n",
              "      <th>35K</th>\n",
              "      <th>40K</th>\n",
              "      <th>Pace</th>\n",
              "      <th>Official Time</th>\n",
              "      <th>Overall</th>\n",
              "      <th>Gender</th>\n",
              "      <th>Division</th>\n",
              "      <th>Year</th>\n",
              "    </tr>\n",
              "  </thead>\n",
              "  <tbody>\n",
              "    <tr>\n",
              "      <th>0</th>\n",
              "      <td>Desisa, Lelisa</td>\n",
              "      <td>25</td>\n",
              "      <td>M</td>\n",
              "      <td>Ambo</td>\n",
              "      <td>NaN</td>\n",
              "      <td>ETH</td>\n",
              "      <td>883</td>\n",
              "      <td>1783</td>\n",
              "      <td>2697</td>\n",
              "      <td>3629</td>\n",
              "      <td>3842</td>\n",
              "      <td>4567</td>\n",
              "      <td>5520</td>\n",
              "      <td>6479</td>\n",
              "      <td>7359</td>\n",
              "      <td>296</td>\n",
              "      <td>7757</td>\n",
              "      <td>1</td>\n",
              "      <td>1</td>\n",
              "      <td>1</td>\n",
              "      <td>2015</td>\n",
              "    </tr>\n",
              "    <tr>\n",
              "      <th>1</th>\n",
              "      <td>Tsegay, Yemane Adhane</td>\n",
              "      <td>30</td>\n",
              "      <td>M</td>\n",
              "      <td>Addis Ababa</td>\n",
              "      <td>NaN</td>\n",
              "      <td>ETH</td>\n",
              "      <td>883</td>\n",
              "      <td>1783</td>\n",
              "      <td>2698</td>\n",
              "      <td>3628</td>\n",
              "      <td>3841</td>\n",
              "      <td>4567</td>\n",
              "      <td>5519</td>\n",
              "      <td>6479</td>\n",
              "      <td>7362</td>\n",
              "      <td>298</td>\n",
              "      <td>7788</td>\n",
              "      <td>2</td>\n",
              "      <td>2</td>\n",
              "      <td>2</td>\n",
              "      <td>2015</td>\n",
              "    </tr>\n",
              "    <tr>\n",
              "      <th>2</th>\n",
              "      <td>Chebet, Wilson</td>\n",
              "      <td>29</td>\n",
              "      <td>M</td>\n",
              "      <td>Marakwet</td>\n",
              "      <td>NaN</td>\n",
              "      <td>KEN</td>\n",
              "      <td>883</td>\n",
              "      <td>1783</td>\n",
              "      <td>2697</td>\n",
              "      <td>3629</td>\n",
              "      <td>3842</td>\n",
              "      <td>4567</td>\n",
              "      <td>5520</td>\n",
              "      <td>6479</td>\n",
              "      <td>7381</td>\n",
              "      <td>299</td>\n",
              "      <td>7822</td>\n",
              "      <td>3</td>\n",
              "      <td>3</td>\n",
              "      <td>3</td>\n",
              "      <td>2015</td>\n",
              "    </tr>\n",
              "    <tr>\n",
              "      <th>3</th>\n",
              "      <td>Kipyego, Bernard</td>\n",
              "      <td>28</td>\n",
              "      <td>M</td>\n",
              "      <td>Eldoret</td>\n",
              "      <td>NaN</td>\n",
              "      <td>KEN</td>\n",
              "      <td>883</td>\n",
              "      <td>1784</td>\n",
              "      <td>2701</td>\n",
              "      <td>3629</td>\n",
              "      <td>3842</td>\n",
              "      <td>4567</td>\n",
              "      <td>5520</td>\n",
              "      <td>6483</td>\n",
              "      <td>7427</td>\n",
              "      <td>300</td>\n",
              "      <td>7847</td>\n",
              "      <td>4</td>\n",
              "      <td>4</td>\n",
              "      <td>4</td>\n",
              "      <td>2015</td>\n",
              "    </tr>\n",
              "    <tr>\n",
              "      <th>4</th>\n",
              "      <td>Korir, Wesley</td>\n",
              "      <td>32</td>\n",
              "      <td>M</td>\n",
              "      <td>Kitale</td>\n",
              "      <td>NaN</td>\n",
              "      <td>KEN</td>\n",
              "      <td>883</td>\n",
              "      <td>1784</td>\n",
              "      <td>2698</td>\n",
              "      <td>3628</td>\n",
              "      <td>3841</td>\n",
              "      <td>4567</td>\n",
              "      <td>5520</td>\n",
              "      <td>6479</td>\n",
              "      <td>7407</td>\n",
              "      <td>300</td>\n",
              "      <td>7849</td>\n",
              "      <td>5</td>\n",
              "      <td>5</td>\n",
              "      <td>5</td>\n",
              "      <td>2015</td>\n",
              "    </tr>\n",
              "  </tbody>\n",
              "</table>\n",
              "</div>"
            ],
            "text/plain": [
              "                    Name  Age M/F         City  ... Overall Gender  Division  Year\n",
              "0         Desisa, Lelisa   25   M         Ambo  ...       1      1         1  2015\n",
              "1  Tsegay, Yemane Adhane   30   M  Addis Ababa  ...       2      2         2  2015\n",
              "2         Chebet, Wilson   29   M     Marakwet  ...       3      3         3  2015\n",
              "3       Kipyego, Bernard   28   M      Eldoret  ...       4      4         4  2015\n",
              "4          Korir, Wesley   32   M       Kitale  ...       5      5         5  2015\n",
              "\n",
              "[5 rows x 21 columns]"
            ]
          },
          "metadata": {
            "tags": []
          },
          "execution_count": 25
        }
      ]
    },
    {
      "cell_type": "markdown",
      "metadata": {
        "id": "PUPkQ2Ew05TG"
      },
      "source": [
        "#Step 6. Save file"
      ]
    },
    {
      "cell_type": "code",
      "metadata": {
        "id": "NfDdqn2I1A4M"
      },
      "source": [
        "# Save to CSV file \"marathon_2015_2017.csv\"\n",
        "output_file = '/gdrive/My Drive/data/marathon_2015_2017.csv'\n",
        "marathon_2015_2017.to_csv(output_file, index=None, header=True)"
      ],
      "execution_count": 26,
      "outputs": []
    }
  ]
}